{
  "cells": [
    {
      "cell_type": "markdown",
      "metadata": {
        "id": "view-in-github",
        "colab_type": "text"
      },
      "source": [
        "<a href=\"https://colab.research.google.com/github/oolonglilfox/CSC2516Project/blob/main/csc413_group200_Art.ipynb\" target=\"_parent\"><img src=\"https://colab.research.google.com/assets/colab-badge.svg\" alt=\"Open In Colab\"/></a>"
      ]
    },
    {
      "cell_type": "markdown",
      "metadata": {
        "id": "mKmtLD7xue_D"
      },
      "source": [
        "# Introduction"
      ]
    },
    {
      "cell_type": "code",
      "execution_count": null,
      "metadata": {
        "colab": {
          "base_uri": "https://localhost:8080/"
        },
        "id": "GmvwsT_s43qW",
        "outputId": "e451f3e6-31f3-4923-9470-df9a7d3f9c9b"
      },
      "outputs": [
        {
          "output_type": "stream",
          "name": "stdout",
          "text": [
            "Looking in indexes: https://pypi.org/simple, https://us-python.pkg.dev/colab-wheels/public/simple/\n",
            "Collecting kornia\n",
            "  Downloading kornia-0.6.11-py2.py3-none-any.whl (628 kB)\n",
            "\u001b[2K     \u001b[90m━━━━━━━━━━━━━━━━━━━━━━━━━━━━━━━━━━━━━━━\u001b[0m \u001b[32m628.1/628.1 kB\u001b[0m \u001b[31m7.3 MB/s\u001b[0m eta \u001b[36m0:00:00\u001b[0m\n",
            "\u001b[?25hCollecting cleverhans\n",
            "  Downloading cleverhans-4.0.0-py3-none-any.whl (92 kB)\n",
            "\u001b[2K     \u001b[90m━━━━━━━━━━━━━━━━━━━━━━━━━━━━━━━━━━━━━━━━\u001b[0m \u001b[32m92.3/92.3 kB\u001b[0m \u001b[31m6.9 MB/s\u001b[0m eta \u001b[36m0:00:00\u001b[0m\n",
            "\u001b[?25hRequirement already satisfied: packaging in /usr/local/lib/python3.9/dist-packages (from kornia) (23.0)\n",
            "Requirement already satisfied: torch>=1.9.1 in /usr/local/lib/python3.9/dist-packages (from kornia) (2.0.0+cu118)\n",
            "Collecting nose\n",
            "  Downloading nose-1.3.7-py3-none-any.whl (154 kB)\n",
            "\u001b[2K     \u001b[90m━━━━━━━━━━━━━━━━━━━━━━━━━━━━━━━━━━━━━━━\u001b[0m \u001b[32m154.7/154.7 kB\u001b[0m \u001b[31m7.1 MB/s\u001b[0m eta \u001b[36m0:00:00\u001b[0m\n",
            "\u001b[?25hCollecting mnist\n",
            "  Downloading mnist-0.2.2-py2.py3-none-any.whl (3.5 kB)\n",
            "Requirement already satisfied: joblib in /usr/local/lib/python3.9/dist-packages (from cleverhans) (1.2.0)\n",
            "Requirement already satisfied: absl-py in /usr/local/lib/python3.9/dist-packages (from cleverhans) (1.4.0)\n",
            "Requirement already satisfied: scipy in /usr/local/lib/python3.9/dist-packages (from cleverhans) (1.10.1)\n",
            "Requirement already satisfied: easydict in /usr/local/lib/python3.9/dist-packages (from cleverhans) (1.10)\n",
            "Requirement already satisfied: six in /usr/local/lib/python3.9/dist-packages (from cleverhans) (1.16.0)\n",
            "Collecting pycodestyle\n",
            "  Downloading pycodestyle-2.10.0-py2.py3-none-any.whl (41 kB)\n",
            "\u001b[2K     \u001b[90m━━━━━━━━━━━━━━━━━━━━━━━━━━━━━━━━━━━━━━━━\u001b[0m \u001b[32m41.3/41.3 kB\u001b[0m \u001b[31m1.9 MB/s\u001b[0m eta \u001b[36m0:00:00\u001b[0m\n",
            "\u001b[?25hRequirement already satisfied: matplotlib in /usr/local/lib/python3.9/dist-packages (from cleverhans) (3.7.1)\n",
            "Requirement already satisfied: numpy in /usr/local/lib/python3.9/dist-packages (from cleverhans) (1.22.4)\n",
            "Requirement already satisfied: tensorflow-probability in /usr/local/lib/python3.9/dist-packages (from cleverhans) (0.19.0)\n",
            "Requirement already satisfied: networkx in /usr/local/lib/python3.9/dist-packages (from torch>=1.9.1->kornia) (3.1)\n",
            "Requirement already satisfied: jinja2 in /usr/local/lib/python3.9/dist-packages (from torch>=1.9.1->kornia) (3.1.2)\n",
            "Requirement already satisfied: triton==2.0.0 in /usr/local/lib/python3.9/dist-packages (from torch>=1.9.1->kornia) (2.0.0)\n",
            "Requirement already satisfied: typing-extensions in /usr/local/lib/python3.9/dist-packages (from torch>=1.9.1->kornia) (4.5.0)\n",
            "Requirement already satisfied: sympy in /usr/local/lib/python3.9/dist-packages (from torch>=1.9.1->kornia) (1.11.1)\n",
            "Requirement already satisfied: filelock in /usr/local/lib/python3.9/dist-packages (from torch>=1.9.1->kornia) (3.11.0)\n",
            "Requirement already satisfied: lit in /usr/local/lib/python3.9/dist-packages (from triton==2.0.0->torch>=1.9.1->kornia) (16.0.1)\n",
            "Requirement already satisfied: cmake in /usr/local/lib/python3.9/dist-packages (from triton==2.0.0->torch>=1.9.1->kornia) (3.25.2)\n",
            "Requirement already satisfied: pyparsing>=2.3.1 in /usr/local/lib/python3.9/dist-packages (from matplotlib->cleverhans) (3.0.9)\n",
            "Requirement already satisfied: importlib-resources>=3.2.0 in /usr/local/lib/python3.9/dist-packages (from matplotlib->cleverhans) (5.12.0)\n",
            "Requirement already satisfied: fonttools>=4.22.0 in /usr/local/lib/python3.9/dist-packages (from matplotlib->cleverhans) (4.39.3)\n",
            "Requirement already satisfied: contourpy>=1.0.1 in /usr/local/lib/python3.9/dist-packages (from matplotlib->cleverhans) (1.0.7)\n",
            "Requirement already satisfied: python-dateutil>=2.7 in /usr/local/lib/python3.9/dist-packages (from matplotlib->cleverhans) (2.8.2)\n",
            "Requirement already satisfied: cycler>=0.10 in /usr/local/lib/python3.9/dist-packages (from matplotlib->cleverhans) (0.11.0)\n",
            "Requirement already satisfied: pillow>=6.2.0 in /usr/local/lib/python3.9/dist-packages (from matplotlib->cleverhans) (8.4.0)\n",
            "Requirement already satisfied: kiwisolver>=1.0.1 in /usr/local/lib/python3.9/dist-packages (from matplotlib->cleverhans) (1.4.4)\n",
            "Requirement already satisfied: dm-tree in /usr/local/lib/python3.9/dist-packages (from tensorflow-probability->cleverhans) (0.1.8)\n",
            "Requirement already satisfied: decorator in /usr/local/lib/python3.9/dist-packages (from tensorflow-probability->cleverhans) (4.4.2)\n",
            "Requirement already satisfied: gast>=0.3.2 in /usr/local/lib/python3.9/dist-packages (from tensorflow-probability->cleverhans) (0.4.0)\n",
            "Requirement already satisfied: cloudpickle>=1.3 in /usr/local/lib/python3.9/dist-packages (from tensorflow-probability->cleverhans) (2.2.1)\n",
            "Requirement already satisfied: zipp>=3.1.0 in /usr/local/lib/python3.9/dist-packages (from importlib-resources>=3.2.0->matplotlib->cleverhans) (3.15.0)\n",
            "Requirement already satisfied: MarkupSafe>=2.0 in /usr/local/lib/python3.9/dist-packages (from jinja2->torch>=1.9.1->kornia) (2.1.2)\n",
            "Requirement already satisfied: mpmath>=0.19 in /usr/local/lib/python3.9/dist-packages (from sympy->torch>=1.9.1->kornia) (1.3.0)\n",
            "Installing collected packages: nose, pycodestyle, mnist, cleverhans, kornia\n",
            "Successfully installed cleverhans-4.0.0 kornia-0.6.11 mnist-0.2.2 nose-1.3.7 pycodestyle-2.10.0\n"
          ]
        }
      ],
      "source": [
        "!pip install kornia cleverhans"
      ]
    },
    {
      "cell_type": "code",
      "execution_count": null,
      "metadata": {
        "id": "47aI9EMYKFH2"
      },
      "outputs": [],
      "source": [
        "# Libraries\n",
        "import matplotlib.pyplot as plt\n",
        "import torch\n",
        "import torch.optim as optim\n",
        "from torch.optim.lr_scheduler import MultiStepLR\n",
        "import torch.utils.data.dataloader as Data\n",
        "import torch.nn as nn\n",
        "from torch.nn import DataParallel\n",
        "import torch.nn.functional as F\n",
        "import torchvision\n",
        "from torch.utils.data import Dataset, DataLoader\n",
        "from torchvision import transforms, models, datasets\n",
        "from torchvision.datasets import MNIST, CIFAR10\n",
        "from torchvision.transforms import InterpolationMode\n",
        "import numpy as np\n",
        "import csv\n",
        "import os\n",
        "import io\n",
        "import kornia\n",
        "import time\n",
        "from tqdm import tqdm\n",
        "from PIL import Image\n",
        "from cleverhans.torch.attacks.fast_gradient_method import fast_gradient_method\n",
        "from cleverhans.torch.attacks.carlini_wagner_l2 import carlini_wagner_l2\n",
        "import warnings\n",
        "\n",
        "warnings.filterwarnings(\"ignore\")"
      ]
    },
    {
      "cell_type": "code",
      "execution_count": null,
      "metadata": {
        "colab": {
          "base_uri": "https://localhost:8080/"
        },
        "id": "9usS12YjNU5d",
        "outputId": "d1875e73-65db-4bef-849d-818a7f5be777"
      },
      "outputs": [
        {
          "output_type": "stream",
          "name": "stdout",
          "text": [
            "Mounted at /content/drive\n"
          ]
        }
      ],
      "source": [
        "from google.colab import drive\n",
        "drive.mount('/content/drive')"
      ]
    },
    {
      "cell_type": "code",
      "source": [
        "!pip install deeplake deeplake[enterprise]"
      ],
      "metadata": {
        "id": "w8BvzToQQ5f_",
        "colab": {
          "base_uri": "https://localhost:8080/"
        },
        "outputId": "b37ebc39-005c-4548-92ed-442671b88884"
      },
      "execution_count": null,
      "outputs": [
        {
          "output_type": "stream",
          "name": "stdout",
          "text": [
            "Looking in indexes: https://pypi.org/simple, https://us-python.pkg.dev/colab-wheels/public/simple/\n",
            "Collecting deeplake\n",
            "  Downloading deeplake-3.2.22.tar.gz (457 kB)\n",
            "\u001b[2K     \u001b[90m━━━━━━━━━━━━━━━━━━━━━━━━━━━━━━━━━━━━━━━\u001b[0m \u001b[32m457.4/457.4 kB\u001b[0m \u001b[31m9.2 MB/s\u001b[0m eta \u001b[36m0:00:00\u001b[0m\n",
            "\u001b[?25h  Preparing metadata (setup.py) ... \u001b[?25l\u001b[?25hdone\n",
            "Requirement already satisfied: numpy in /usr/local/lib/python3.9/dist-packages (from deeplake) (1.22.4)\n",
            "Requirement already satisfied: pillow in /usr/local/lib/python3.9/dist-packages (from deeplake) (8.4.0)\n",
            "Collecting boto3\n",
            "  Downloading boto3-1.26.115-py3-none-any.whl (135 kB)\n",
            "\u001b[2K     \u001b[90m━━━━━━━━━━━━━━━━━━━━━━━━━━━━━━━━━━━━━━\u001b[0m \u001b[32m135.6/135.6 kB\u001b[0m \u001b[31m16.2 MB/s\u001b[0m eta \u001b[36m0:00:00\u001b[0m\n",
            "\u001b[?25hRequirement already satisfied: click in /usr/local/lib/python3.9/dist-packages (from deeplake) (8.1.3)\n",
            "Collecting pathos\n",
            "  Downloading pathos-0.3.0-py3-none-any.whl (79 kB)\n",
            "\u001b[2K     \u001b[90m━━━━━━━━━━━━━━━━━━━━━━━━━━━━━━━━━━━━━━━━\u001b[0m \u001b[32m79.8/79.8 kB\u001b[0m \u001b[31m10.6 MB/s\u001b[0m eta \u001b[36m0:00:00\u001b[0m\n",
            "\u001b[?25hCollecting humbug>=0.3.1\n",
            "  Downloading humbug-0.3.1-py3-none-any.whl (15 kB)\n",
            "Requirement already satisfied: tqdm in /usr/local/lib/python3.9/dist-packages (from deeplake) (4.65.0)\n",
            "Collecting numcodecs\n",
            "  Downloading numcodecs-0.11.0-cp39-cp39-manylinux_2_17_x86_64.manylinux2014_x86_64.whl (6.7 MB)\n",
            "\u001b[2K     \u001b[90m━━━━━━━━━━━━━━━━━━━━━━━━━━━━━━━━━━━━━━━━\u001b[0m \u001b[32m6.7/6.7 MB\u001b[0m \u001b[31m83.8 MB/s\u001b[0m eta \u001b[36m0:00:00\u001b[0m\n",
            "\u001b[?25hCollecting pyjwt\n",
            "  Downloading PyJWT-2.6.0-py3-none-any.whl (20 kB)\n",
            "Collecting aioboto3==10.4.0\n",
            "  Downloading aioboto3-10.4.0-py3-none-any.whl (32 kB)\n",
            "Requirement already satisfied: nest_asyncio in /usr/local/lib/python3.9/dist-packages (from deeplake) (1.5.6)\n",
            "Collecting aiobotocore[boto3]==2.4.2\n",
            "  Downloading aiobotocore-2.4.2-py3-none-any.whl (66 kB)\n",
            "\u001b[2K     \u001b[90m━━━━━━━━━━━━━━━━━━━━━━━━━━━━━━━━━━━━━━━━\u001b[0m \u001b[32m66.8/66.8 kB\u001b[0m \u001b[31m9.0 MB/s\u001b[0m eta \u001b[36m0:00:00\u001b[0m\n",
            "\u001b[?25hCollecting botocore<1.27.60,>=1.27.59\n",
            "  Downloading botocore-1.27.59-py3-none-any.whl (9.1 MB)\n",
            "\u001b[2K     \u001b[90m━━━━━━━━━━━━━━━━━━━━━━━━━━━━━━━━━━━━━━━━\u001b[0m \u001b[32m9.1/9.1 MB\u001b[0m \u001b[31m102.4 MB/s\u001b[0m eta \u001b[36m0:00:00\u001b[0m\n",
            "\u001b[?25hCollecting aioitertools>=0.5.1\n",
            "  Downloading aioitertools-0.11.0-py3-none-any.whl (23 kB)\n",
            "Collecting aiohttp>=3.3.1\n",
            "  Downloading aiohttp-3.8.4-cp39-cp39-manylinux_2_17_x86_64.manylinux2014_x86_64.whl (1.0 MB)\n",
            "\u001b[2K     \u001b[90m━━━━━━━━━━━━━━━━━━━━━━━━━━━━━━━━━━━━━━━━\u001b[0m \u001b[32m1.0/1.0 MB\u001b[0m \u001b[31m71.5 MB/s\u001b[0m eta \u001b[36m0:00:00\u001b[0m\n",
            "\u001b[?25hRequirement already satisfied: wrapt>=1.10.10 in /usr/local/lib/python3.9/dist-packages (from aiobotocore[boto3]==2.4.2->aioboto3==10.4.0->deeplake) (1.14.1)\n",
            "Collecting boto3\n",
            "  Downloading boto3-1.24.59-py3-none-any.whl (132 kB)\n",
            "\u001b[2K     \u001b[90m━━━━━━━━━━━━━━━━━━━━━━━━━━━━━━━━━━━━━━\u001b[0m \u001b[32m132.5/132.5 kB\u001b[0m \u001b[31m13.6 MB/s\u001b[0m eta \u001b[36m0:00:00\u001b[0m\n",
            "\u001b[?25hCollecting libdeeplake==0.0.41\n",
            "  Downloading libdeeplake-0.0.41-cp39-cp39-manylinux2010_x86_64.whl (8.1 MB)\n",
            "\u001b[2K     \u001b[90m━━━━━━━━━━━━━━━━━━━━━━━━━━━━━━━━━━━━━━━━\u001b[0m \u001b[32m8.1/8.1 MB\u001b[0m \u001b[31m40.2 MB/s\u001b[0m eta \u001b[36m0:00:00\u001b[0m\n",
            "\u001b[?25hCollecting jmespath<2.0.0,>=0.7.1\n",
            "  Downloading jmespath-1.0.1-py3-none-any.whl (20 kB)\n",
            "Collecting s3transfer<0.7.0,>=0.6.0\n",
            "  Downloading s3transfer-0.6.0-py3-none-any.whl (79 kB)\n",
            "\u001b[2K     \u001b[90m━━━━━━━━━━━━━━━━━━━━━━━━━━━━━━━━━━━━━━━━\u001b[0m \u001b[32m79.6/79.6 kB\u001b[0m \u001b[31m7.3 MB/s\u001b[0m eta \u001b[36m0:00:00\u001b[0m\n",
            "\u001b[?25hRequirement already satisfied: requests in /usr/local/lib/python3.9/dist-packages (from humbug>=0.3.1->deeplake) (2.27.1)\n",
            "Requirement already satisfied: entrypoints in /usr/local/lib/python3.9/dist-packages (from numcodecs->deeplake) (0.4)\n",
            "Collecting multiprocess>=0.70.14\n",
            "  Downloading multiprocess-0.70.14-py39-none-any.whl (132 kB)\n",
            "\u001b[2K     \u001b[90m━━━━━━━━━━━━━━━━━━━━━━━━━━━━━━━━━━━━━━━\u001b[0m \u001b[32m132.9/132.9 kB\u001b[0m \u001b[31m9.4 MB/s\u001b[0m eta \u001b[36m0:00:00\u001b[0m\n",
            "\u001b[?25hCollecting pox>=0.3.2\n",
            "  Downloading pox-0.3.2-py3-none-any.whl (29 kB)\n",
            "Collecting ppft>=1.7.6.6\n",
            "  Downloading ppft-1.7.6.6-py3-none-any.whl (52 kB)\n",
            "\u001b[2K     \u001b[90m━━━━━━━━━━━━━━━━━━━━━━━━━━━━━━━━━━━━━━━━\u001b[0m \u001b[32m52.8/52.8 kB\u001b[0m \u001b[31m6.8 MB/s\u001b[0m eta \u001b[36m0:00:00\u001b[0m\n",
            "\u001b[?25hCollecting dill>=0.3.6\n",
            "  Downloading dill-0.3.6-py3-none-any.whl (110 kB)\n",
            "\u001b[2K     \u001b[90m━━━━━━━━━━━━━━━━━━━━━━━━━━━━━━━━━━━━━━\u001b[0m \u001b[32m110.5/110.5 kB\u001b[0m \u001b[31m13.6 MB/s\u001b[0m eta \u001b[36m0:00:00\u001b[0m\n",
            "\u001b[?25hRequirement already satisfied: urllib3<1.27,>=1.25.4 in /usr/local/lib/python3.9/dist-packages (from botocore<1.27.60,>=1.27.59->aiobotocore[boto3]==2.4.2->aioboto3==10.4.0->deeplake) (1.26.15)\n",
            "Requirement already satisfied: python-dateutil<3.0.0,>=2.1 in /usr/local/lib/python3.9/dist-packages (from botocore<1.27.60,>=1.27.59->aiobotocore[boto3]==2.4.2->aioboto3==10.4.0->deeplake) (2.8.2)\n",
            "Requirement already satisfied: charset-normalizer~=2.0.0 in /usr/local/lib/python3.9/dist-packages (from requests->humbug>=0.3.1->deeplake) (2.0.12)\n",
            "Requirement already satisfied: certifi>=2017.4.17 in /usr/local/lib/python3.9/dist-packages (from requests->humbug>=0.3.1->deeplake) (2022.12.7)\n",
            "Requirement already satisfied: idna<4,>=2.5 in /usr/local/lib/python3.9/dist-packages (from requests->humbug>=0.3.1->deeplake) (3.4)\n",
            "Collecting aiosignal>=1.1.2\n",
            "  Downloading aiosignal-1.3.1-py3-none-any.whl (7.6 kB)\n",
            "Collecting async-timeout<5.0,>=4.0.0a3\n",
            "  Downloading async_timeout-4.0.2-py3-none-any.whl (5.8 kB)\n",
            "Collecting yarl<2.0,>=1.0\n",
            "  Downloading yarl-1.8.2-cp39-cp39-manylinux_2_17_x86_64.manylinux2014_x86_64.whl (264 kB)\n",
            "\u001b[2K     \u001b[90m━━━━━━━━━━━━━━━━━━━━━━━━━━━━━━━━━━━━━━\u001b[0m \u001b[32m264.6/264.6 kB\u001b[0m \u001b[31m29.5 MB/s\u001b[0m eta \u001b[36m0:00:00\u001b[0m\n",
            "\u001b[?25hCollecting multidict<7.0,>=4.5\n",
            "  Downloading multidict-6.0.4-cp39-cp39-manylinux_2_17_x86_64.manylinux2014_x86_64.whl (114 kB)\n",
            "\u001b[2K     \u001b[90m━━━━━━━━━━━━━━━━━━━━━━━━━━━━━━━━━━━━━━\u001b[0m \u001b[32m114.2/114.2 kB\u001b[0m \u001b[31m15.9 MB/s\u001b[0m eta \u001b[36m0:00:00\u001b[0m\n",
            "\u001b[?25hCollecting frozenlist>=1.1.1\n",
            "  Downloading frozenlist-1.3.3-cp39-cp39-manylinux_2_5_x86_64.manylinux1_x86_64.manylinux_2_17_x86_64.manylinux2014_x86_64.whl (158 kB)\n",
            "\u001b[2K     \u001b[90m━━━━━━━━━━━━━━━━━━━━━━━━━━━━━━━━━━━━━━\u001b[0m \u001b[32m158.8/158.8 kB\u001b[0m \u001b[31m21.7 MB/s\u001b[0m eta \u001b[36m0:00:00\u001b[0m\n",
            "\u001b[?25hRequirement already satisfied: attrs>=17.3.0 in /usr/local/lib/python3.9/dist-packages (from aiohttp>=3.3.1->aiobotocore[boto3]==2.4.2->aioboto3==10.4.0->deeplake) (22.2.0)\n",
            "Requirement already satisfied: typing_extensions>=4.0 in /usr/local/lib/python3.9/dist-packages (from aioitertools>=0.5.1->aiobotocore[boto3]==2.4.2->aioboto3==10.4.0->deeplake) (4.5.0)\n",
            "Requirement already satisfied: six>=1.5 in /usr/local/lib/python3.9/dist-packages (from python-dateutil<3.0.0,>=2.1->botocore<1.27.60,>=1.27.59->aiobotocore[boto3]==2.4.2->aioboto3==10.4.0->deeplake) (1.16.0)\n",
            "Building wheels for collected packages: deeplake\n",
            "  Building wheel for deeplake (setup.py) ... \u001b[?25l\u001b[?25hdone\n",
            "  Created wheel for deeplake: filename=deeplake-3.2.22-py3-none-any.whl size=555349 sha256=f6d514357d5b17bfe69efb7f452f4633c3279cb336d680293444fb03c22c3bbe\n",
            "  Stored in directory: /root/.cache/pip/wheels/24/cb/09/2278354bd08b44c63bc98f9d6bb0d24d406f542357facf6d1c\n",
            "Successfully built deeplake\n",
            "Installing collected packages: pyjwt, ppft, pox, numcodecs, multidict, jmespath, frozenlist, dill, async-timeout, aioitertools, yarl, multiprocess, humbug, botocore, aiosignal, s3transfer, pathos, aiohttp, libdeeplake, boto3, aiobotocore, aioboto3, deeplake\n",
            "Successfully installed aioboto3-10.4.0 aiobotocore-2.4.2 aiohttp-3.8.4 aioitertools-0.11.0 aiosignal-1.3.1 async-timeout-4.0.2 boto3-1.24.59 botocore-1.27.59 deeplake-3.2.22 dill-0.3.6 frozenlist-1.3.3 humbug-0.3.1 jmespath-1.0.1 libdeeplake-0.0.41 multidict-6.0.4 multiprocess-0.70.14 numcodecs-0.11.0 pathos-0.3.0 pox-0.3.2 ppft-1.7.6.6 pyjwt-2.6.0 s3transfer-0.6.0 yarl-1.8.2\n"
          ]
        }
      ]
    },
    {
      "cell_type": "code",
      "source": [
        "# create dataloader by chaining with transform function and batch size and returns batch of pytorch tensors\n",
        "import deeplake\n",
        "import gc\n",
        "# Load the original dataset\n",
        "# ds = deeplake.load('hub://activeloop/wiki-art')\n",
        "ds = deeplake.load('/content/drive/MyDrive/Colab Notebooks/hub_activeloop_wiki-art')\n",
        "ok, train_ds, test_ds = ds.random_split([0.7, 0.25, 0.05])\n",
        "ok=None\n",
        "gc.collect()"
      ],
      "metadata": {
        "id": "KiuEUS9xNbfK",
        "colab": {
          "base_uri": "https://localhost:8080/"
        },
        "outputId": "f4483cd1-e457-4167-e808-667ea24704e6"
      },
      "execution_count": null,
      "outputs": [
        {
          "output_type": "stream",
          "name": "stderr",
          "text": [
            "|"
          ]
        },
        {
          "output_type": "stream",
          "name": "stdout",
          "text": [
            "/content/drive/MyDrive/Colab Notebooks/hub_activeloop_wiki-art loaded successfully.\n",
            "\n"
          ]
        },
        {
          "output_type": "stream",
          "name": "stderr",
          "text": [
            "\r \r\r \r"
          ]
        },
        {
          "output_type": "execute_result",
          "data": {
            "text/plain": [
              "0"
            ]
          },
          "metadata": {},
          "execution_count": 6
        }
      ]
    },
    {
      "cell_type": "code",
      "source": [
        "classes = [\n",
        "  \"abstract_expressionism\",\n",
        "  \"action_painting\",\n",
        "  \"analytical_cubism\",\n",
        "  \"art_nouveau_modern\",\n",
        "  \"baroque\",\n",
        "  \"color_field_painting\",\n",
        "  \"contemporary_realism\",\n",
        "  \"cubism\",\n",
        "  \"early_renaissance\",\n",
        "  \"expressionism\",\n",
        "  \"fauvism\",\n",
        "  \"high_renaissance\",\n",
        "  \"impressionism\",\n",
        "  \"mannerism_late_renaissance\",\n",
        "  \"minimalism\",\n",
        "  \"naive_art_primitivism\",\n",
        "  \"new_realism\",\n",
        "  \"northern_renaissance\",\n",
        "  \"pointillism\",\n",
        "  \"pop_art\",\n",
        "  \"post_impressionism\",\n",
        "  \"realism\",\n",
        "  \"rococo\",\n",
        "  \"romanticism\",\n",
        "  \"symbolism\",\n",
        "  \"synthetic_cubism\",\n",
        "  \"ukiyo_e\"\n",
        " ]"
      ],
      "metadata": {
        "id": "JSrSuI8vN_SZ"
      },
      "execution_count": null,
      "outputs": []
    },
    {
      "cell_type": "markdown",
      "metadata": {
        "id": "-VnXR871J4z2"
      },
      "source": [
        "# Model Building\n"
      ]
    },
    {
      "cell_type": "code",
      "execution_count": null,
      "metadata": {
        "id": "WbiobqGKKdgp"
      },
      "outputs": [],
      "source": [
        "class BasicBlock(nn.Module):\n",
        "   # define basic building block of a ResNet - a two-layer convolutiona neural network with a residual connection\n",
        "    expansion = 1 # class-level variable\n",
        "\n",
        "    def __init__(self, in_planes, planes, stride=1):\n",
        "        super(BasicBlock, self).__init__()\n",
        "        # define the 2 convolutional layers with batch normalization\n",
        "        self.conv1 = nn.Conv2d(in_planes, planes, kernel_size=3, stride=stride, padding=1, bias=False)\n",
        "        self.bn1 = nn.BatchNorm2d(planes)\n",
        "        self.conv2 = nn.Conv2d(planes, planes, kernel_size=3, stride=1, padding=1, bias=False)\n",
        "        self.bn2 = nn.BatchNorm2d(planes)\n",
        "        # define shortcut connection\n",
        "        self.shortcut = nn.Sequential()\n",
        "        if stride != 1 or in_planes != self.expansion*planes:\n",
        "            self.shortcut = nn.Sequential(\n",
        "                nn.Conv2d(in_planes, self.expansion*planes, kernel_size=1, stride=stride, bias=False),\n",
        "                nn.BatchNorm2d(self.expansion*planes)\n",
        "            )\n",
        "\n",
        "    def forward(self, x):\n",
        "        out = F.relu(self.bn1(self.conv1(x)))\n",
        "        out = self.bn2(self.conv2(out))\n",
        "        out += self.shortcut(x)\n",
        "        out = F.relu(out)\n",
        "        return out\n",
        "\n",
        "class Bottleneck(nn.Module):\n",
        "    # building block needed in the ResNet architecture\n",
        "    expansion = 4 # adjust number of output channels in residual branch of the block\n",
        "    \n",
        "    def __init__(self, in_planes, planes, stride=1):\n",
        "        super(Bottleneck, self).__init__()\n",
        "        self.conv1 = nn.Conv2d(in_planes, planes, kernel_size=1, bias=False)\n",
        "        self.bn1 = nn.BatchNorm2d(planes)\n",
        "        self.conv2 = nn.Conv2d(planes, planes, kernel_size=3, stride=stride, padding=1, bias=False)\n",
        "        self.bn2 = nn.BatchNorm2d(planes)\n",
        "        self.conv3 = nn.Conv2d(planes, self.expansion*planes, kernel_size=1, bias=False)\n",
        "        self.bn3 = nn.BatchNorm2d(self.expansion*planes)\n",
        "\n",
        "        self.shortcut = nn.Sequential()\n",
        "        if stride != 1 or in_planes != self.expansion*planes:\n",
        "            self.shortcut = nn.Sequential(\n",
        "                nn.Conv2d(in_planes, self.expansion*planes, kernel_size=1, stride=stride, bias=False),\n",
        "                nn.BatchNorm2d(self.expansion*planes)\n",
        "            )\n",
        "\n",
        "    def forward(self, x):\n",
        "        out = F.relu(self.bn1(self.conv1(x)))\n",
        "        out = F.relu(self.bn2(self.conv2(out)))\n",
        "        out = self.bn3(self.conv3(out))\n",
        "        out += self.shortcut(x)\n",
        "        out = F.relu(out)\n",
        "        return out\n",
        "\n",
        "class denoising_block(nn.Module):\n",
        "    def __init__(self, in_planes, ksize, filter_type):\n",
        "        super(denoising_block, self).__init__()\n",
        "        self.in_planes = in_planes\n",
        "        self.ksize = ksize\n",
        "        self.filter_type = filter_type\n",
        "        self.conv = nn.Conv2d(in_channels=in_planes, out_channels=in_planes, kernel_size=1, stride=1, padding=0)\n",
        "\n",
        "    def forward(self, x):\n",
        "        if self.filter_type == 'Median_Filter':\n",
        "            x_denoised = kornia.filters.median_blur(x, (self.ksize, self.ksize))\n",
        "        elif self.filter_type == 'Mean_Filter':\n",
        "            x_denoised = kornia.filters.box_blur(x, (self.ksize, self.ksize))\n",
        "        elif self.filter_type == 'Gaussian_Filter':\n",
        "            x_denoised = kornia.filters.gaussian_blur2d(x, (self.ksize, self.ksize), (0.3 * ((x.shape[3] - 1) * 0.5 - 1) + 0.8, 0.3 * ((x.shape[2] - 1) * 0.5 - 1) + 0.8))\n",
        "        new_x = x + self.conv(x_denoised)\n",
        "        return new_x\n",
        "\n",
        "class ResNet(nn.Module):\n",
        "    def __init__(self, block, num_blocks, num_classes=10, whether_denoising=False, filter_type=\"Mean_Filter\", ksize=3):\n",
        "        super(ResNet, self).__init__()\n",
        "        if whether_denoising:\n",
        "            self.denoising_block1 = denoising_block(in_planes=64, ksize=ksize, filter_type=filter_type)\n",
        "            self.denoising_block2 = denoising_block(in_planes=64, ksize=ksize, filter_type=filter_type)\n",
        "        self.whether_denoising = whether_denoising\n",
        "        self.in_planes = 64\n",
        "        self.conv1 = nn.Conv2d(3, 64, kernel_size=3, stride=1, padding=1, bias=False)\n",
        "        self.bn1 = nn.BatchNorm2d(64)\n",
        "        self.layer1 = self._make_layer(block, 64, num_blocks[0], stride=1)\n",
        "        self.layer2 = self._make_layer(block, 128, num_blocks[1], stride=2)\n",
        "        self.layer3 = self._make_layer(block, 256, num_blocks[2], stride=2)\n",
        "        self.layer4 = self._make_layer(block, 512, num_blocks[3], stride=2)\n",
        "        self.linear = nn.Linear(512*block.expansion, num_classes)\n",
        "\n",
        "    def _make_layer(self, block, planes, num_blocks, stride):\n",
        "        strides = [stride] + [1]*(num_blocks-1)\n",
        "        layers = []\n",
        "        for stride in strides:\n",
        "            layers.append(block(self.in_planes, planes, stride))\n",
        "            self.in_planes = planes * block.expansion\n",
        "        return nn.Sequential(*layers)\n",
        "\n",
        "    def forward(self, x):\n",
        "        out = F.relu(self.bn1(self.conv1(x)))\n",
        "        if self.whether_denoising:\n",
        "            out = self.denoising_block1(out)\n",
        "        out = self.layer1(out)\n",
        "        if self.whether_denoising:\n",
        "            out = self.denoising_block2(out)\n",
        "        out = self.layer2(out)\n",
        "        out = self.layer3(out)\n",
        "        out = self.layer4(out)\n",
        "        out = F.avg_pool2d(out, 4)\n",
        "        out = out.view(out.size(0), -1)\n",
        "        out = self.linear(out)\n",
        "        return out\n"
      ]
    },
    {
      "cell_type": "code",
      "execution_count": null,
      "metadata": {
        "id": "jtaeqxsZQauQ"
      },
      "outputs": [],
      "source": [
        "def ResNet18(whether_denoising=False, filter_type=\"Mean_Filter\", ksize=3):\n",
        "    return ResNet(BasicBlock, [2, 2, 2, 2], num_classes=len(classes), whether_denoising=whether_denoising, filter_type=filter_type, ksize=ksize)\n",
        "\n",
        "def ResNet34(whether_denoising=False, filter_type=\"Mean_Filter\", ksize=3):\n",
        "    return ResNet(BasicBlock, [3, 4, 6, 3], num_classes=len(classes), whether_denoising=whether_denoising, filter_type=filter_type, ksize=ksize)\n",
        "\n",
        "def ResNet50(whether_denoising=False, filter_type=\"Mean_Filter\", ksize=3):\n",
        "    return ResNet(Bottleneck, [3, 4, 6, 3], num_classes=len(classes), whether_denoising=whether_denoising, filter_type=filter_type, ksize=ksize)\n",
        "\n",
        "def ResNet101(whether_denoising=False, filter_type=\"Mean_Filter\", ksize=3):\n",
        "    return ResNet(Bottleneck, [3, 4, 23, 3], num_classes=len(classes), whether_denoising=whether_denoising, filter_type=filter_type, ksize=ksize)\n",
        "\n",
        "def ResNet152(whether_denoising=False, filter_type=\"Mean_Filter\", ksize=3):\n",
        "    return ResNet(Bottleneck, [3, 8, 36, 3], num_classes=len(classes), whether_denoising=whether_denoising, filter_type=filter_type, ksize=ksize)\n",
        "\n",
        "def test():\n",
        "    from torch.autograd import Variable\n",
        "    net = ResNet18(whether_denoising=True, filter_type=\"Median_Filter\", ksize=3)\n",
        "    x = Variable(torch.randn(1, 3, 32, 32), requires_grad=True)\n",
        "    y = net(x)\n",
        "    print(y)\n",
        "\n",
        "def denoising_block_test(filter_type):\n",
        "    from torch.autograd import Variable\n",
        "    denoising_block1 = denoising_block(in_planes=32, ksize=3, filter_type=filter_type)\n",
        "    x = Variable(torch.ones(2, 64, 32, 32), requires_grad=True)\n",
        "    y = denoising_block1(x)\n",
        "    print(y)\n",
        "    y.backward(x)\n",
        "    print(x.grad)"
      ]
    },
    {
      "cell_type": "markdown",
      "metadata": {
        "id": "59W_TSWLFbzo"
      },
      "source": [
        "# Data transformation\n",
        "Countering Adversarial Images Using Input Transformations"
      ]
    },
    {
      "cell_type": "code",
      "execution_count": null,
      "metadata": {
        "id": "qUtIkGU3F_XH"
      },
      "outputs": [],
      "source": [
        "import math\n",
        "\n",
        "def denoise_tv_bregman(image, weight, max_iter=100, eps=1e-3):\n",
        "  if image.is_cuda:\n",
        "    image = image.cpu()\n",
        "  image = atleast_3d(image)\n",
        "\n",
        "  img_shape = list(image.shape)\n",
        "  rows = img_shape[0]\n",
        "  rows2 = rows + 2\n",
        "  cols = img_shape[1]\n",
        "  cols2 = cols + 2\n",
        "  dims = img_shape[2]\n",
        "  total = rows * cols * dims\n",
        "  shape_extend = (rows2, cols2, dims)\n",
        "  # out is firstly created as zeros-like tensor with size as shape_extend\n",
        "  out = torch.zeros(shape_extend, dtype=torch.float)\n",
        "\n",
        "  dx = out.clone().detach()\n",
        "  dy = out.clone().detach()\n",
        "  bx = out.clone().detach()\n",
        "  by = out.clone().detach()\n",
        "\n",
        "  lam = 2 * weight\n",
        "  rmse = float(\"inf\")\n",
        "  norm = (weight + 4 * lam)\n",
        "\n",
        "  out_rows, out_cols = out.shape[:2]\n",
        "  out[1:out_rows-1, 1:out_cols-1] = image\n",
        "\n",
        "  out = fill_extend(image, out)\n",
        "\n",
        "  i = 0\n",
        "  regularization = torch.mul(image, weight)\n",
        "  # iterative optimization method\n",
        "  # split-Bregman iteration\n",
        "  while i < max_iter and rmse > eps:\n",
        "    uprev = out[1:-1, 1:-1, :]\n",
        "\n",
        "    ux = out[1:-1, 2:, :] - uprev\n",
        "    uy = out[2:, 1:-1, :] - uprev\n",
        "\n",
        "    unew = torch.div(\n",
        "        (torch.mul((out[2:, 1:-1, :]\n",
        "                + out[0:-2, 1:-1, :]\n",
        "                + out[1:-1, 2:, :]\n",
        "                + out[1:-1, 0:-2, :]\n",
        "\n",
        "                + dx[1:-1, 0:-2, :]\n",
        "                - dx[1:-1, 1:-1, :]\n",
        "                + dy[0:-2, 1:-1, :]\n",
        "                - dy[1:-1, 1:-1, :]\n",
        "\n",
        "                - bx[1:-1, 0:-2, :]\n",
        "                + bx[1:-1, 1:-1, :]\n",
        "                - by[0:-2, 1:-1, :]\n",
        "                + by[1:-1, 1:-1, :]), lam) + regularization),\n",
        "          norm)\n",
        "    out[1:-1, 1:-1, :] = unew.clone().detach()\n",
        "\n",
        "    rmse = torch.norm(unew-uprev, p=2)\n",
        "\n",
        "    bxx = bx[1:-1, 1:-1, :].clone().detach()\n",
        "    byy = by[1:-1, 1:-1, :].clone().detach()\n",
        "\n",
        "    tx = ux + bxx\n",
        "    ty = uy + byy\n",
        "    s = torch.sqrt(torch.pow(tx, 2)+torch.pow(ty, 2))\n",
        "    dxx = torch.div(torch.addcmul(torch.zeros(s.shape, dtype=torch.float), lam, s, tx),\n",
        "                    torch.add(torch.mul(s, lam), 1))\n",
        "    dyy = torch.div(torch.addcmul(torch.zeros(s.shape, dtype=torch.float), lam, s, ty),\n",
        "                    torch.add(torch.mul(s, lam), 1))\n",
        "\n",
        "    dx[1:-1, 1:-1, :] = dxx.clone().detach()\n",
        "    dy[1:-1, 1:-1, :] = dyy.clone().detach()\n",
        "\n",
        "    bx[1:-1, 1:-1, :] += ux - dxx\n",
        "    by[1:-1, 1:-1, :] += uy - dyy\n",
        "\n",
        "    i += 1\n",
        "  # return the denoised image excluding the extended area\n",
        "  return out[1:-1, 1:-1]\n",
        "\n",
        "def atleast_3d(image):\n",
        "    dim = list(image.shape)\n",
        "\n",
        "    if len(dim) >= 3:\n",
        "        return image\n",
        "    else:\n",
        "        dim.append(1)\n",
        "        return image.view(dim)\n",
        "\n",
        "def fill_extend(image, out):\n",
        "    \"\"\"fill the extended area in out img with original img\"\"\"\n",
        "    out_rows, out_cols = out.shape[:2]\n",
        "    rows, cols = out_rows - 2, out_cols - 2\n",
        "    out[0, 1:out_cols-1] = image[1, :]\n",
        "    out[1:out_rows-1, 0] = image[:, 1]\n",
        "    out[out_rows-1, 1:out_cols-1] = image[rows-1, :]\n",
        "    out[1:out_rows-1, out_cols-1] = image[:, cols-1]\n",
        "    return out\n",
        "\n",
        "def randomJPEGcompression(image):\n",
        "    qf = np.random.randint(10, 101)\n",
        "    if torch.is_tensor(image):\n",
        "      image = transforms.ToPILImage()(image)\n",
        "    outputIoStream = io.BytesIO()\n",
        "    \n",
        "    image.save(outputIoStream, \"JPEG\", quality=qf, optimice=True)\n",
        "    outputIoStream.seek(0)\n",
        "    return Image.open(outputIoStream)\n",
        "\n",
        "def tvDenoising(image):\n",
        "  return denoise_tv_bregman(image, weight=0.1)\n"
      ]
    },
    {
      "cell_type": "code",
      "execution_count": null,
      "metadata": {
        "id": "V-5HM7gSHp9S"
      },
      "outputs": [],
      "source": [
        "image_transforms = {\n",
        "  'cropping_rescaling':\n",
        "  transforms.Compose([\n",
        "      transforms.RandomResizedCrop(size=32),\n",
        "      transforms.RandomRotation(degrees=15),\n",
        "      transforms.RandomHorizontalFlip(),\n",
        "      transforms.ToTensor(),\n",
        "      transforms.Normalize([0.485, 0.456, 0.406],\n",
        "                            [0.229, 0.224, 0.225])  # Imagenet standards\n",
        "  ]),\n",
        "  'bit_depth_reduction':\n",
        "  transforms.Compose([\n",
        "      transforms.RandomPosterize(4, p=0.5),\n",
        "      transforms.RandomRotation(degrees=15),\n",
        "      transforms.RandomHorizontalFlip(),\n",
        "      transforms.ToTensor(),\n",
        "      transforms.Normalize([0.485, 0.456, 0.406], [0.229, 0.224, 0.225])\n",
        "  ]),\n",
        "  'JEPG_compression':\n",
        "  transforms.Compose([\n",
        "      transforms.Lambda(randomJPEGcompression),\n",
        "      transforms.RandomRotation(degrees=15),\n",
        "      transforms.RandomHorizontalFlip(),\n",
        "      transforms.ToTensor(),\n",
        "      transforms.Normalize([0.485, 0.456, 0.406], [0.229, 0.224, 0.225])\n",
        "  ]),\n",
        "  'TVDenoise':\n",
        "  transforms.Compose([\n",
        "      transforms.ToTensor(),\n",
        "      transforms.Lambda(tvDenoising),\n",
        "      transforms.RandomRotation(degrees=15),\n",
        "      transforms.RandomHorizontalFlip(),\n",
        "      transforms.Normalize([0.485, 0.456, 0.406], [0.229, 0.224, 0.225])\n",
        "  ]),\n",
        "  'cropping_rescaling_attack':\n",
        "  transforms.Compose([\n",
        "      transforms.ToPILImage(),\n",
        "      transforms.RandomResizedCrop(size=32),\n",
        "      transforms.RandomRotation(degrees=15),\n",
        "      transforms.RandomHorizontalFlip(),\n",
        "      transforms.ToTensor(),\n",
        "      transforms.Normalize([0.485, 0.456, 0.406],\n",
        "                            [0.229, 0.224, 0.225])  # Imagenet standards\n",
        "  ]),\n",
        "  'bit_depth_reduction_attack':\n",
        "  transforms.Compose([\n",
        "      transforms.ToPILImage(),\n",
        "      transforms.RandomPosterize(4, p=0.5),\n",
        "      transforms.RandomRotation(degrees=15),\n",
        "      transforms.RandomHorizontalFlip(),\n",
        "      transforms.ToTensor(),\n",
        "      transforms.Normalize([0.485, 0.456, 0.406], [0.229, 0.224, 0.225])\n",
        "  ]),\n",
        "  'JEPG_compression_attack':\n",
        "  transforms.Compose([\n",
        "      transforms.Lambda(randomJPEGcompression),\n",
        "      transforms.RandomRotation(degrees=15),\n",
        "      transforms.RandomHorizontalFlip(),\n",
        "      transforms.ToTensor(),\n",
        "      transforms.Normalize([0.485, 0.456, 0.406], [0.229, 0.224, 0.225])\n",
        "  ]),\n",
        "  'TVDenoise_attack':\n",
        "  transforms.Compose([\n",
        "      transforms.Lambda(tvDenoising),\n",
        "      transforms.RandomRotation(degrees=15),\n",
        "      transforms.RandomHorizontalFlip(),\n",
        "      transforms.Normalize([0.485, 0.456, 0.406], [0.229, 0.224, 0.225])\n",
        "  ])\n",
        "}"
      ]
    },
    {
      "cell_type": "markdown",
      "metadata": {
        "id": "DI3fCNuHKXDF"
      },
      "source": [
        "# Training"
      ]
    },
    {
      "cell_type": "code",
      "source": [
        "import torch.backends.cudnn as cudnn\n",
        "\n",
        "whether_denoising=True\n",
        "filter_type='Mean_Filter'\n",
        "ksize=3\n",
        "learning_rate=1e-3\n",
        "epochs=20\n",
        "batch_size=64\n",
        "num_workers=4\n",
        "GPU='0'\n",
        "# model_address = \"/content/drive/MyDrive/Colab Notebooks/TrueMean_Filter3.pkl\"\n",
        "basic_model = 'ResNet18'\n",
        "filter_type = 'Mean_Filter'\n",
        "kernel_size = 3\n",
        "perturbation_threshold = 1e-8\n",
        "weight_decay = 1e-4\n",
        "momentum = 0.9\n",
        "\n",
        "os.environ[\"CUDA_VISIBLE_DEVICES\"] = GPU\n",
        "\n",
        "\n",
        "# set the device to be used\n",
        "device = torch.device(\"cuda:0\")\n",
        "torch.cuda.set_device(device)\n",
        "\n",
        "# enable benchmark mode for the cuDNN library\n",
        "cudnn.benchmark = True"
      ],
      "metadata": {
        "id": "spAhvMR0wPTS"
      },
      "execution_count": null,
      "outputs": []
    },
    {
      "cell_type": "code",
      "execution_count": null,
      "metadata": {
        "id": "rm9YY_lnKbSS"
      },
      "outputs": [],
      "source": [
        "def test(model, testloader, criterion):\n",
        "    model.eval()\n",
        "    correct, total, loss, counter = 0, 0, 0, 0\n",
        "    with torch.no_grad():\n",
        "        for data in testloader:\n",
        "            images, labels = data\n",
        "            images = images.to(device) # move data to GPU\n",
        "            labels = labels.to(device).squeeze() # move data to GPU\n",
        "            outputs = model(images)\n",
        "            _, predicted = torch.max(outputs.data, 1)\n",
        "            total += labels.shape[0]\n",
        "            correct += (predicted == labels).sum().item()\n",
        "            loss += criterion(outputs, labels).item()\n",
        "            counter += 1\n",
        "    return loss / total, correct / total\n",
        "\n",
        "\n",
        "transform_test = transforms.Compose([\n",
        "    transforms.ToPILImage(),\n",
        "    transforms.CenterCrop(512),\n",
        "    transforms.Resize(32),\n",
        "    transforms.ToTensor(),\n",
        "    transforms.Normalize([0.485, 0.456, 0.406], [0.229, 0.224, 0.225])])\n",
        "\n",
        "testloader = test_ds.pytorch(tensors=[\"image\", \"label\"], transform = {'images': transform_test, 'labels': None}, num_workers=num_workers, batch_size=batch_size, decode_method={'images': 'numpy'}, pin_memory=True)\n",
        "# testloader = test_ds.dataloader()\\\n",
        "#     .transform({'images': transform_test, 'labels': None})\\\n",
        "#     .batch(batch_size)\\\n",
        "#     .pytorch(num_workers=num_workers, return_index=False, decode_method={'images': 'numpy'})\n",
        "\n",
        "def train(whether_denoising, filter_type, ksize, epochs, transform=None):\n",
        "    if transform:\n",
        "        transform_train = image_transforms[transform]\n",
        "\n",
        "    else:\n",
        "        # Set the transformation\n",
        "        transform_train = transforms.Compose([\n",
        "            transforms.ToPILImage(),\n",
        "            transforms.CenterCrop(512),\n",
        "            transforms.Resize(32),\n",
        "            transforms.RandomHorizontalFlip(),\n",
        "            transforms.RandomRotation(degrees=15),\n",
        "            transforms.ToTensor(),\n",
        "            transforms.Normalize([0.485, 0.456, 0.406], [0.229, 0.224, 0.225]),\n",
        "        ])\n",
        "\n",
        "\n",
        "    # Load the dataset\n",
        "    trainloader = train_ds.pytorch(tensors=[\"image\", \"label\"], transform = {'images': transform_train, 'labels': None}, num_workers=num_workers, batch_size=batch_size, decode_method={'images': 'numpy'}, pin_memory=True)\n",
        "    # trainloader = train_ds.dataloader()\\\n",
        "    #     .transform({'images': transform_train, 'labels': None})\\\n",
        "    #     .batch(batch_size)\\\n",
        "    #     .pytorch(num_workers=num_workers, return_index=False, decode_method={'images': 'numpy'})\n",
        "\n",
        "    # Establish the model\n",
        "    model = ResNet18(whether_denoising=whether_denoising, filter_type=filter_type, ksize=ksize)\n",
        "    if torch.cuda.device_count() > 1:\n",
        "        print(\"Let's use\", torch.cuda.device_count(), \"GPUs!\")\n",
        "        model = nn.DataParallel(model)\n",
        "    model = model.to(device) # move model to GPU\n",
        "\n",
        "    criterion = nn.CrossEntropyLoss()\n",
        "    optimizer = optim.SGD(model.parameters(), lr=learning_rate, weight_decay=weight_decay, momentum=momentum, nesterov=True)\n",
        "    scheduler = MultiStepLR(optimizer, milestones=[int(epochs/2), int(epochs*3/4), int(epochs*7/8)], gamma=0.1)\n",
        "\n",
        "    total, correct, train_loss = 0, 0, 0\n",
        "    best_acc, best_epoch = 0, 0\n",
        "\n",
        "    for epoch in range(epochs):\n",
        "        for i, data in enumerate(tqdm(trainloader)):\n",
        "            inputs, labels = data\n",
        "            inputs = inputs.to(device) # move data to GPU\n",
        "            labels = labels.to(device).squeeze() # move data to GPU\n",
        "            model.train()\n",
        "            outputs = model(inputs)\n",
        "            loss = criterion(outputs, labels)\n",
        "            optimizer.zero_grad()\n",
        "            loss.backward()\n",
        "            optimizer.step()\n",
        "            # count acc,loss on trainset\n",
        "            _, predicted = torch.max(outputs.data, 1)\n",
        "            total += labels.shape[0]\n",
        "            correct += (predicted == labels).sum().item()\n",
        "            train_loss += loss.item()\n",
        "        \n",
        "        acc = correct / total\n",
        "        train_loss /= total\n",
        "        val_loss, val_acc = test(model, testloader, criterion)\n",
        "        \n",
        "        print(\"epoch:{}, train_loss:{:.3f}, train_acc:{:.3f}, val_loss:{:.3f}, val_acc:{:.3f}\".format(epoch, train_loss, acc, val_loss, val_acc))\n",
        "        correct, total, train_loss = 0, 0, 0\n",
        "        if best_acc < val_acc:\n",
        "            best_acc = val_acc\n",
        "            best_epoch = epoch\n",
        "            torch.save(model.state_dict(),\"/content/drive/MyDrive/Colab Notebooks/Art_\" + str(whether_denoising) + filter_type + str(transform) + '.pkl')\n",
        "    print(\"Best model at present: val_acc={:.3f}  best_epoch={}\".format(best_acc, best_epoch))\n",
        "    return model\n"
      ]
    },
    {
      "cell_type": "markdown",
      "metadata": {
        "id": "-sb_6QUXROFZ"
      },
      "source": [
        "# Adversarial Attack"
      ]
    },
    {
      "cell_type": "code",
      "execution_count": null,
      "metadata": {
        "id": "neZxfT-jIMpG"
      },
      "outputs": [],
      "source": [
        "def evaluate_attack(testset, attack_method, norm, epsilon, model, transform=None):\n",
        "    # load dataset\n",
        "    test_loader = testset\n",
        "\n",
        "    # run evaluation\n",
        "    model.eval()\n",
        "  \n",
        "    correct = 0.0\n",
        "    for images, labels in test_loader:\n",
        "      images, labels = images.cuda(), labels.cuda().squeeze()\n",
        "\n",
        "      if attack_method == 'baseline' or epsilon == 0.0:\n",
        "          pass\n",
        "      elif attack_method == 'fgsm':\n",
        "          images = fast_gradient_method(\n",
        "              model_fn=model,\n",
        "              x=images,\n",
        "              eps=epsilon,\n",
        "              norm=norm,\n",
        "              clip_min=0.0,\n",
        "              clip_max=1.0,\n",
        "          )\n",
        "\n",
        "      if transform == None:\n",
        "        with torch.no_grad():\n",
        "            out = model(images)\n",
        "            _, preds = torch.max(out, 1)\n",
        "            correct += torch.sum(preds == labels).detach().cpu()\n",
        "      else:\n",
        "        transform_methods=image_transforms[transform]\n",
        "        for img in images:\n",
        "          img = transform_methods(img)\n",
        "        with torch.no_grad():\n",
        "            out = model(images)\n",
        "            _, preds = torch.max(out, 1)\n",
        "            correct += torch.sum(preds == labels).detach().cpu()\n",
        "\n",
        "\n",
        "      acc = correct / len(test_loader.dataset)\n",
        "  \n",
        "    return acc"
      ]
    },
    {
      "cell_type": "code",
      "execution_count": null,
      "metadata": {
        "id": "gswRx3zups2m"
      },
      "outputs": [],
      "source": [
        "def load_model(basic_model, whether_denoising, filter_type, ksize):\n",
        "    if basic_model == 'ResNet18':\n",
        "        model = ResNet18(whether_denoising=whether_denoising, filter_type=filter_type, ksize=ksize)\n",
        "    elif basic_model == 'ResNet34':\n",
        "        model = ResNet34(whether_denoising=whether_denoising, filter_type=filter_type, ksize=ksize)\n",
        "    elif basic_model == 'ResNet50':\n",
        "        model = ResNet50(whether_denoising=whether_denoising, filter_type=filter_type, ksize=ksize)\n",
        "    elif basic_model == 'ResNet101':\n",
        "        model = ResNet101(whether_denoising=whether_denoising, filter_type=filter_type, ksize=ksize)\n",
        "    elif basic_model == 'ResNet152':\n",
        "        model = ResNet152(whether_denoising=whether_denoising, filter_type=filter_type, ksize=ksize)\n",
        "\n",
        "    model.cuda()\n",
        "    model = DataParallel(model)\n",
        "    return model\n"
      ]
    },
    {
      "cell_type": "markdown",
      "metadata": {
        "id": "CZ_W5QnaArHK"
      },
      "source": [
        "# Plotting\n"
      ]
    },
    {
      "cell_type": "code",
      "execution_count": null,
      "metadata": {
        "id": "JHWtRw7XBknV"
      },
      "outputs": [],
      "source": [
        "def plottingAttack(modelsInfo, epsilon_range, testloader):\n",
        "  epsilons = np.linspace(epsilon_range[0], epsilon_range[1], 10)\n",
        "  os.environ[\"CUDA_VISIBLE_DEVICES\"] = GPU\n",
        "  for info in modelsInfo:\n",
        "    model = load_model(basic_model=basic_model, \n",
        "                       whether_denoising=info['whether_denoising'], \n",
        "                       filter_type=info['filter_type'], ksize=kernel_size)\n",
        "    model.load_state_dict(torch.load(info['address']), strict=False)\n",
        "    if torch.cuda.device_count() > 1:\n",
        "        print(\"Let's use\", torch.cuda.device_count(), \"GPUs!\")\n",
        "        model = nn.DataParallel(model)\n",
        "    model = model.to(device) # move model to GPU\n",
        "    attack_acc = []\n",
        "    plt.xlabel('epsilon')\n",
        "    plt.ylabel('test_acc')\n",
        "    for eps in tqdm(epsilons):\n",
        "      if info['transform']:\n",
        "        attack_acc.append(evaluate_attack(testloader, 'fgsm', 2, eps, model, transform = info['transform']+\"_attack\"))\n",
        "      else:\n",
        "        attack_acc.append(evaluate_attack(testloader, 'fgsm', 2, eps, model))\n",
        "    if info['whether_denoising'] and info['transform']:\n",
        "      label = info['filter_type'] + \"+\" + info['transform']\n",
        "    elif info['whether_denoising'] :\n",
        "      label = info['filter_type'] \n",
        "    elif info['transform']:\n",
        "      label = info['transform']\n",
        "    else:\n",
        "      label = 'Baseline'\n",
        "    plt.plot(epsilons, attack_acc, label = label)\n",
        "  plt.legend()\n",
        "  plt.show()\n",
        "\n"
      ]
    },
    {
      "cell_type": "code",
      "source": [
        "model = train(False, filter_type, ksize, epochs, transform=None)"
      ],
      "metadata": {
        "id": "DvSImUQjgZin",
        "colab": {
          "base_uri": "https://localhost:8080/"
        },
        "outputId": "87667726-85be-40ec-f0ac-c8960159a67d"
      },
      "execution_count": null,
      "outputs": [
        {
          "output_type": "stream",
          "name": "stderr",
          "text": [
            "100%|██████████| 319/319 [08:34<00:00,  1.61s/it]\n"
          ]
        },
        {
          "output_type": "stream",
          "name": "stdout",
          "text": [
            "epoch:0, train_loss:0.050, train_acc:0.133, val_loss:0.046, val_acc:0.194\n"
          ]
        },
        {
          "output_type": "stream",
          "name": "stderr",
          "text": [
            "100%|██████████| 319/319 [08:36<00:00,  1.62s/it]\n"
          ]
        },
        {
          "output_type": "stream",
          "name": "stdout",
          "text": [
            "epoch:1, train_loss:0.046, train_acc:0.173, val_loss:0.046, val_acc:0.177\n"
          ]
        },
        {
          "output_type": "stream",
          "name": "stderr",
          "text": [
            "100%|██████████| 319/319 [08:23<00:00,  1.58s/it]\n"
          ]
        },
        {
          "output_type": "stream",
          "name": "stdout",
          "text": [
            "epoch:2, train_loss:0.046, train_acc:0.182, val_loss:0.046, val_acc:0.176\n"
          ]
        },
        {
          "output_type": "stream",
          "name": "stderr",
          "text": [
            "100%|██████████| 319/319 [08:25<00:00,  1.58s/it]\n"
          ]
        },
        {
          "output_type": "stream",
          "name": "stdout",
          "text": [
            "epoch:3, train_loss:0.045, train_acc:0.187, val_loss:0.046, val_acc:0.174\n"
          ]
        },
        {
          "output_type": "stream",
          "name": "stderr",
          "text": [
            "100%|██████████| 319/319 [08:32<00:00,  1.61s/it]\n"
          ]
        },
        {
          "output_type": "stream",
          "name": "stdout",
          "text": [
            "epoch:4, train_loss:0.045, train_acc:0.192, val_loss:0.045, val_acc:0.180\n"
          ]
        },
        {
          "output_type": "stream",
          "name": "stderr",
          "text": [
            "100%|██████████| 319/319 [08:25<00:00,  1.59s/it]\n"
          ]
        },
        {
          "output_type": "stream",
          "name": "stdout",
          "text": [
            "epoch:5, train_loss:0.046, train_acc:0.189, val_loss:0.046, val_acc:0.154\n"
          ]
        },
        {
          "output_type": "stream",
          "name": "stderr",
          "text": [
            "100%|██████████| 319/319 [08:29<00:00,  1.60s/it]\n"
          ]
        },
        {
          "output_type": "stream",
          "name": "stdout",
          "text": [
            "epoch:6, train_loss:0.045, train_acc:0.188, val_loss:0.046, val_acc:0.179\n"
          ]
        },
        {
          "output_type": "stream",
          "name": "stderr",
          "text": [
            "100%|██████████| 319/319 [08:18<00:00,  1.56s/it]\n"
          ]
        },
        {
          "output_type": "stream",
          "name": "stdout",
          "text": [
            "epoch:7, train_loss:0.045, train_acc:0.195, val_loss:0.046, val_acc:0.169\n"
          ]
        },
        {
          "output_type": "stream",
          "name": "stderr",
          "text": [
            "100%|██████████| 319/319 [08:23<00:00,  1.58s/it]\n"
          ]
        },
        {
          "output_type": "stream",
          "name": "stdout",
          "text": [
            "epoch:8, train_loss:0.045, train_acc:0.196, val_loss:0.046, val_acc:0.176\n"
          ]
        },
        {
          "output_type": "stream",
          "name": "stderr",
          "text": [
            "100%|██████████| 319/319 [08:22<00:00,  1.57s/it]\n"
          ]
        },
        {
          "output_type": "stream",
          "name": "stdout",
          "text": [
            "epoch:9, train_loss:0.044, train_acc:0.199, val_loss:0.046, val_acc:0.169\n"
          ]
        },
        {
          "output_type": "stream",
          "name": "stderr",
          "text": [
            "100%|██████████| 319/319 [08:24<00:00,  1.58s/it]\n"
          ]
        },
        {
          "output_type": "stream",
          "name": "stdout",
          "text": [
            "epoch:10, train_loss:0.044, train_acc:0.198, val_loss:0.046, val_acc:0.172\n"
          ]
        },
        {
          "output_type": "stream",
          "name": "stderr",
          "text": [
            "100%|██████████| 319/319 [08:20<00:00,  1.57s/it]\n"
          ]
        },
        {
          "output_type": "stream",
          "name": "stdout",
          "text": [
            "epoch:11, train_loss:0.044, train_acc:0.201, val_loss:0.046, val_acc:0.171\n"
          ]
        },
        {
          "output_type": "stream",
          "name": "stderr",
          "text": [
            "100%|██████████| 319/319 [08:21<00:00,  1.57s/it]\n"
          ]
        },
        {
          "output_type": "stream",
          "name": "stdout",
          "text": [
            "epoch:12, train_loss:0.044, train_acc:0.203, val_loss:0.046, val_acc:0.173\n"
          ]
        },
        {
          "output_type": "stream",
          "name": "stderr",
          "text": [
            "100%|██████████| 319/319 [08:25<00:00,  1.58s/it]\n"
          ]
        },
        {
          "output_type": "stream",
          "name": "stdout",
          "text": [
            "epoch:13, train_loss:0.044, train_acc:0.203, val_loss:0.046, val_acc:0.188\n"
          ]
        },
        {
          "output_type": "stream",
          "name": "stderr",
          "text": [
            "100%|██████████| 319/319 [08:26<00:00,  1.59s/it]\n"
          ]
        },
        {
          "output_type": "stream",
          "name": "stdout",
          "text": [
            "epoch:14, train_loss:0.043, train_acc:0.206, val_loss:0.046, val_acc:0.177\n"
          ]
        },
        {
          "output_type": "stream",
          "name": "stderr",
          "text": [
            "100%|██████████| 319/319 [08:22<00:00,  1.58s/it]\n"
          ]
        },
        {
          "output_type": "stream",
          "name": "stdout",
          "text": [
            "epoch:15, train_loss:0.043, train_acc:0.210, val_loss:0.046, val_acc:0.181\n"
          ]
        },
        {
          "output_type": "stream",
          "name": "stderr",
          "text": [
            "100%|██████████| 319/319 [08:21<00:00,  1.57s/it]\n"
          ]
        },
        {
          "output_type": "stream",
          "name": "stdout",
          "text": [
            "epoch:16, train_loss:0.043, train_acc:0.210, val_loss:0.045, val_acc:0.188\n"
          ]
        },
        {
          "output_type": "stream",
          "name": "stderr",
          "text": [
            "100%|██████████| 319/319 [08:22<00:00,  1.58s/it]\n"
          ]
        },
        {
          "output_type": "stream",
          "name": "stdout",
          "text": [
            "epoch:17, train_loss:0.043, train_acc:0.216, val_loss:0.046, val_acc:0.196\n"
          ]
        },
        {
          "output_type": "stream",
          "name": "stderr",
          "text": [
            "100%|██████████| 319/319 [08:25<00:00,  1.58s/it]\n"
          ]
        },
        {
          "output_type": "stream",
          "name": "stdout",
          "text": [
            "epoch:18, train_loss:0.042, train_acc:0.214, val_loss:0.046, val_acc:0.191\n"
          ]
        },
        {
          "output_type": "stream",
          "name": "stderr",
          "text": [
            "100%|██████████| 319/319 [08:24<00:00,  1.58s/it]\n"
          ]
        },
        {
          "output_type": "stream",
          "name": "stdout",
          "text": [
            "epoch:19, train_loss:0.042, train_acc:0.216, val_loss:0.046, val_acc:0.192\n",
            "Best model at present: val_acc=0.196  best_epoch=17\n"
          ]
        }
      ]
    },
    {
      "cell_type": "code",
      "source": [
        "import matplotlib.pyplot as plt\n",
        "\n",
        "# Data\n",
        "epoch = [0, 1, 2, 3, 4, 5, 6, 7, 8, 9, 10, 11, 12, 13, 14, 15, 16, 17, 18, 19]\n",
        "train_acc = [0.133, 0.173, 0.182, 0.187, 0.192, 0.189, 0.188, 0.195, 0.196, 0.199, 0.198, 0.201, 0.203, 0.203, 0.206, 0.210, 0.210, 0.216, 0.218, 0.219]\n",
        "val_acc = [0.194, 0.177, 0.176, 0.174, 0.180, 0.154, 0.179, 0.169, 0.176, 0.169, 0.172, 0.171, 0.173, 0.188, 0.177, 0.181, 0.188, 0.196, 0.189, 0.193]\n",
        "\n",
        "# Plotting\n",
        "plt.plot(epoch, train_acc, label='Train Acc')\n",
        "plt.plot(epoch, val_acc, label='Val Acc')\n",
        "plt.title('Training and Validation Accuracy per Epoch')\n",
        "plt.xticks(epoch)\n",
        "plt.xlabel('Epochs')\n",
        "plt.ylabel('Accuracy')\n",
        "plt.legend()\n",
        "plt.show()\n"
      ],
      "metadata": {
        "colab": {
          "base_uri": "https://localhost:8080/",
          "height": 472
        },
        "id": "HjM5aIBMdr4X",
        "outputId": "37e2c409-c343-4524-952f-0badbe5a9d35"
      },
      "execution_count": null,
      "outputs": [
        {
          "output_type": "display_data",
          "data": {
            "text/plain": [
              "<Figure size 640x480 with 1 Axes>"
            ],
            "image/png": "[encoded data removed]"
          },
          "metadata": {}
        }
      ]
    },
    {
      "cell_type": "code",
      "source": [
        "model = load_model(basic_model=basic_model, \n",
        "                   whether_denoising=False, \n",
        "                   filter_type=filter_type, ksize=kernel_size)\n",
        "model.cuda()\n",
        "model = nn.DataParallel(model)\n",
        "model.load_state_dict(torch.load('/content/drive/MyDrive/Colab Notebooks/Art_FalseMean_FilterNone.pkl'), strict=False)\n",
        "\n",
        "# evaluate_attack(testloader, 'fgsm', 2, 3, model, transform = None)"
      ],
      "metadata": {
        "id": "LHXZz1RflyVc",
        "colab": {
          "base_uri": "https://localhost:8080/"
        },
        "outputId": "a366d952-8cca-4ee5-e8f2-c39a523d789e"
      },
      "execution_count": null,
      "outputs": [
        {
          "output_type": "execute_result",
          "data": {
            "text/plain": [
              "_IncompatibleKeys(missing_keys=['module.module.conv1.weight', 'module.module.bn1.weight', 'module.module.bn1.bias', 'module.module.bn1.running_mean', 'module.module.bn1.running_var', 'module.module.layer1.0.conv1.weight', 'module.module.layer1.0.bn1.weight', 'module.module.layer1.0.bn1.bias', 'module.module.layer1.0.bn1.running_mean', 'module.module.layer1.0.bn1.running_var', 'module.module.layer1.0.conv2.weight', 'module.module.layer1.0.bn2.weight', 'module.module.layer1.0.bn2.bias', 'module.module.layer1.0.bn2.running_mean', 'module.module.layer1.0.bn2.running_var', 'module.module.layer1.1.conv1.weight', 'module.module.layer1.1.bn1.weight', 'module.module.layer1.1.bn1.bias', 'module.module.layer1.1.bn1.running_mean', 'module.module.layer1.1.bn1.running_var', 'module.module.layer1.1.conv2.weight', 'module.module.layer1.1.bn2.weight', 'module.module.layer1.1.bn2.bias', 'module.module.layer1.1.bn2.running_mean', 'module.module.layer1.1.bn2.running_var', 'module.module.layer2.0.conv1.weight', 'module.module.layer2.0.bn1.weight', 'module.module.layer2.0.bn1.bias', 'module.module.layer2.0.bn1.running_mean', 'module.module.layer2.0.bn1.running_var', 'module.module.layer2.0.conv2.weight', 'module.module.layer2.0.bn2.weight', 'module.module.layer2.0.bn2.bias', 'module.module.layer2.0.bn2.running_mean', 'module.module.layer2.0.bn2.running_var', 'module.module.layer2.0.shortcut.0.weight', 'module.module.layer2.0.shortcut.1.weight', 'module.module.layer2.0.shortcut.1.bias', 'module.module.layer2.0.shortcut.1.running_mean', 'module.module.layer2.0.shortcut.1.running_var', 'module.module.layer2.1.conv1.weight', 'module.module.layer2.1.bn1.weight', 'module.module.layer2.1.bn1.bias', 'module.module.layer2.1.bn1.running_mean', 'module.module.layer2.1.bn1.running_var', 'module.module.layer2.1.conv2.weight', 'module.module.layer2.1.bn2.weight', 'module.module.layer2.1.bn2.bias', 'module.module.layer2.1.bn2.running_mean', 'module.module.layer2.1.bn2.running_var', 'module.module.layer3.0.conv1.weight', 'module.module.layer3.0.bn1.weight', 'module.module.layer3.0.bn1.bias', 'module.module.layer3.0.bn1.running_mean', 'module.module.layer3.0.bn1.running_var', 'module.module.layer3.0.conv2.weight', 'module.module.layer3.0.bn2.weight', 'module.module.layer3.0.bn2.bias', 'module.module.layer3.0.bn2.running_mean', 'module.module.layer3.0.bn2.running_var', 'module.module.layer3.0.shortcut.0.weight', 'module.module.layer3.0.shortcut.1.weight', 'module.module.layer3.0.shortcut.1.bias', 'module.module.layer3.0.shortcut.1.running_mean', 'module.module.layer3.0.shortcut.1.running_var', 'module.module.layer3.1.conv1.weight', 'module.module.layer3.1.bn1.weight', 'module.module.layer3.1.bn1.bias', 'module.module.layer3.1.bn1.running_mean', 'module.module.layer3.1.bn1.running_var', 'module.module.layer3.1.conv2.weight', 'module.module.layer3.1.bn2.weight', 'module.module.layer3.1.bn2.bias', 'module.module.layer3.1.bn2.running_mean', 'module.module.layer3.1.bn2.running_var', 'module.module.layer4.0.conv1.weight', 'module.module.layer4.0.bn1.weight', 'module.module.layer4.0.bn1.bias', 'module.module.layer4.0.bn1.running_mean', 'module.module.layer4.0.bn1.running_var', 'module.module.layer4.0.conv2.weight', 'module.module.layer4.0.bn2.weight', 'module.module.layer4.0.bn2.bias', 'module.module.layer4.0.bn2.running_mean', 'module.module.layer4.0.bn2.running_var', 'module.module.layer4.0.shortcut.0.weight', 'module.module.layer4.0.shortcut.1.weight', 'module.module.layer4.0.shortcut.1.bias', 'module.module.layer4.0.shortcut.1.running_mean', 'module.module.layer4.0.shortcut.1.running_var', 'module.module.layer4.1.conv1.weight', 'module.module.layer4.1.bn1.weight', 'module.module.layer4.1.bn1.bias', 'module.module.layer4.1.bn1.running_mean', 'module.module.layer4.1.bn1.running_var', 'module.module.layer4.1.conv2.weight', 'module.module.layer4.1.bn2.weight', 'module.module.layer4.1.bn2.bias', 'module.module.layer4.1.bn2.running_mean', 'module.module.layer4.1.bn2.running_var', 'module.module.linear.weight', 'module.module.linear.bias'], unexpected_keys=['conv1.weight', 'bn1.weight', 'bn1.bias', 'bn1.running_mean', 'bn1.running_var', 'bn1.num_batches_tracked', 'layer1.0.conv1.weight', 'layer1.0.bn1.weight', 'layer1.0.bn1.bias', 'layer1.0.bn1.running_mean', 'layer1.0.bn1.running_var', 'layer1.0.bn1.num_batches_tracked', 'layer1.0.conv2.weight', 'layer1.0.bn2.weight', 'layer1.0.bn2.bias', 'layer1.0.bn2.running_mean', 'layer1.0.bn2.running_var', 'layer1.0.bn2.num_batches_tracked', 'layer1.1.conv1.weight', 'layer1.1.bn1.weight', 'layer1.1.bn1.bias', 'layer1.1.bn1.running_mean', 'layer1.1.bn1.running_var', 'layer1.1.bn1.num_batches_tracked', 'layer1.1.conv2.weight', 'layer1.1.bn2.weight', 'layer1.1.bn2.bias', 'layer1.1.bn2.running_mean', 'layer1.1.bn2.running_var', 'layer1.1.bn2.num_batches_tracked', 'layer2.0.conv1.weight', 'layer2.0.bn1.weight', 'layer2.0.bn1.bias', 'layer2.0.bn1.running_mean', 'layer2.0.bn1.running_var', 'layer2.0.bn1.num_batches_tracked', 'layer2.0.conv2.weight', 'layer2.0.bn2.weight', 'layer2.0.bn2.bias', 'layer2.0.bn2.running_mean', 'layer2.0.bn2.running_var', 'layer2.0.bn2.num_batches_tracked', 'layer2.0.shortcut.0.weight', 'layer2.0.shortcut.1.weight', 'layer2.0.shortcut.1.bias', 'layer2.0.shortcut.1.running_mean', 'layer2.0.shortcut.1.running_var', 'layer2.0.shortcut.1.num_batches_tracked', 'layer2.1.conv1.weight', 'layer2.1.bn1.weight', 'layer2.1.bn1.bias', 'layer2.1.bn1.running_mean', 'layer2.1.bn1.running_var', 'layer2.1.bn1.num_batches_tracked', 'layer2.1.conv2.weight', 'layer2.1.bn2.weight', 'layer2.1.bn2.bias', 'layer2.1.bn2.running_mean', 'layer2.1.bn2.running_var', 'layer2.1.bn2.num_batches_tracked', 'layer3.0.conv1.weight', 'layer3.0.bn1.weight', 'layer3.0.bn1.bias', 'layer3.0.bn1.running_mean', 'layer3.0.bn1.running_var', 'layer3.0.bn1.num_batches_tracked', 'layer3.0.conv2.weight', 'layer3.0.bn2.weight', 'layer3.0.bn2.bias', 'layer3.0.bn2.running_mean', 'layer3.0.bn2.running_var', 'layer3.0.bn2.num_batches_tracked', 'layer3.0.shortcut.0.weight', 'layer3.0.shortcut.1.weight', 'layer3.0.shortcut.1.bias', 'layer3.0.shortcut.1.running_mean', 'layer3.0.shortcut.1.running_var', 'layer3.0.shortcut.1.num_batches_tracked', 'layer3.1.conv1.weight', 'layer3.1.bn1.weight', 'layer3.1.bn1.bias', 'layer3.1.bn1.running_mean', 'layer3.1.bn1.running_var', 'layer3.1.bn1.num_batches_tracked', 'layer3.1.conv2.weight', 'layer3.1.bn2.weight', 'layer3.1.bn2.bias', 'layer3.1.bn2.running_mean', 'layer3.1.bn2.running_var', 'layer3.1.bn2.num_batches_tracked', 'layer4.0.conv1.weight', 'layer4.0.bn1.weight', 'layer4.0.bn1.bias', 'layer4.0.bn1.running_mean', 'layer4.0.bn1.running_var', 'layer4.0.bn1.num_batches_tracked', 'layer4.0.conv2.weight', 'layer4.0.bn2.weight', 'layer4.0.bn2.bias', 'layer4.0.bn2.running_mean', 'layer4.0.bn2.running_var', 'layer4.0.bn2.num_batches_tracked', 'layer4.0.shortcut.0.weight', 'layer4.0.shortcut.1.weight', 'layer4.0.shortcut.1.bias', 'layer4.0.shortcut.1.running_mean', 'layer4.0.shortcut.1.running_var', 'layer4.0.shortcut.1.num_batches_tracked', 'layer4.1.conv1.weight', 'layer4.1.bn1.weight', 'layer4.1.bn1.bias', 'layer4.1.bn1.running_mean', 'layer4.1.bn1.running_var', 'layer4.1.bn1.num_batches_tracked', 'layer4.1.conv2.weight', 'layer4.1.bn2.weight', 'layer4.1.bn2.bias', 'layer4.1.bn2.running_mean', 'layer4.1.bn2.running_var', 'layer4.1.bn2.num_batches_tracked', 'linear.weight', 'linear.bias'])"
            ]
          },
          "metadata": {},
          "execution_count": 17
        }
      ]
    },
    {
      "cell_type": "code",
      "execution_count": null,
      "metadata": {
        "id": "qLXXPtF0PKpY",
        "colab": {
          "base_uri": "https://localhost:8080/",
          "height": 467
        },
        "outputId": "dcf85e55-c500-4156-e30a-fd7567fda06c"
      },
      "outputs": [
        {
          "output_type": "stream",
          "name": "stderr",
          "text": [
            "100%|██████████| 10/10 [16:09<00:00, 96.97s/it]\n"
          ]
        },
        {
          "output_type": "display_data",
          "data": {
            "text/plain": [
              "<Figure size 640x480 with 1 Axes>"
            ],
            "image/png": "[encoded data removed]"
          },
          "metadata": {}
        }
      ],
      "source": [
        "modelsInfo = [{'whether_denoising': False, \n",
        "               'filter_type': 'Mean_Filter', \n",
        "               'transform': None,\n",
        "               'address':'/content/drive/MyDrive/Colab Notebooks/Art_FalseMean_FilterNone.pkl'}]\n",
        "epsilon_range = [0.0,5]\n",
        "plottingAttack(modelsInfo, epsilon_range, testloader)"
      ]
    },
    {
      "cell_type": "markdown",
      "metadata": {
        "id": "3p0sNpua3EuG"
      },
      "source": [
        "# Reference\n",
        "\n",
        "Adversarial attack:\n",
        "* https://github.com/JasonTang99/csc2529_project/blob/main/attack.py\n",
        "* https://github.com/cleverhans-lab/cleverhans/blob/master/cleverhans/jax/attacks/fast_gradient_method.py\n",
        "\n",
        "\n",
        "Countering Adversarial Images Using Input Transformations:\n",
        "* https://github.com/facebookarchive/adversarial_image_defenses\n",
        "* https://arxiv.org/pdf/1812.03411.pdf\n",
        "\n",
        "Data Transformation: \n",
        "* https://jhui.github.io/2018/02/09/PyTorch-Data-loading-preprocess_torchvision/\n",
        "* JPEG tranformation: https://discuss.pytorch.org/t/how-can-i-develop-a-transformation-that-performs-jpeg-compression-with-a-random-qf/43588/4\n",
        "* TV denoise using bregman algorithm: https://github.com/shakes76/PatternFlow/blob/master/algorithms/denoise/denoise_tv_bregman/denoise_tv_bregman.py\n",
        "\n",
        "Others:\n",
        "* https://github.com/tqdm/tqdm\n"
      ]
    },
    {
      "cell_type": "markdown",
      "metadata": {
        "id": "ncL4qzWtpQ_2"
      },
      "source": [
        "# Others\n",
        "Parameters\n",
        "1. A graph compare: Median_Filter, Mean_Filter, Gaussian_Filter, baseline\n",
        "2. A graph compare: 4 transformations, baseline\n",
        "3. A graph compare: best transformation + best filter, best filter, best transformation, baseline"
      ]
    }
  ],
  "metadata": {
    "accelerator": "GPU",
    "colab": {
      "provenance": [],
      "collapsed_sections": [
        "-sb_6QUXROFZ"
      ],
      "include_colab_link": true
    },
    "gpuClass": "standard",
    "kernelspec": {
      "display_name": "Python 3",
      "name": "python3"
    },
    "language_info": {
      "name": "python"
    }
  },
  "nbformat": 4,
  "nbformat_minor": 0
}