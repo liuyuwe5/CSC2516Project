{
  "cells": [
    {
      "cell_type": "markdown",
      "metadata": {
        "id": "view-in-github",
        "colab_type": "text"
      },
      "source": [
        "<a href=\"https://colab.research.google.com/github/oolonglilfox/CSC2516Project/blob/main/csc413_group200_CIFAR10.ipynb\" target=\"_parent\"><img src=\"https://colab.research.google.com/assets/colab-badge.svg\" alt=\"Open In Colab\"/></a>"
      ]
    },
    {
      "cell_type": "markdown",
      "metadata": {
        "id": "mKmtLD7xue_D"
      },
      "source": [
        "# Introduction"
      ]
    },
    {
      "cell_type": "code",
      "execution_count": 2,
      "metadata": {
        "colab": {
          "base_uri": "https://localhost:8080/"
        },
        "id": "GmvwsT_s43qW",
        "outputId": "1196c49b-d3cf-4e26-d057-140302a61397"
      },
      "outputs": [
        {
          "output_type": "stream",
          "name": "stdout",
          "text": [
            "Looking in indexes: https://pypi.org/simple, https://us-python.pkg.dev/colab-wheels/public/simple/\n",
            "Collecting kornia\n",
            "  Downloading kornia-0.6.11-py2.py3-none-any.whl (628 kB)\n",
            "\u001b[2K     \u001b[90m━━━━━━━━━━━━━━━━━━━━━━━━━━━━━━━━━━━━━━━\u001b[0m \u001b[32m628.1/628.1 kB\u001b[0m \u001b[31m7.4 MB/s\u001b[0m eta \u001b[36m0:00:00\u001b[0m\n",
            "\u001b[?25hCollecting cleverhans\n",
            "  Downloading cleverhans-4.0.0-py3-none-any.whl (92 kB)\n",
            "\u001b[2K     \u001b[90m━━━━━━━━━━━━━━━━━━━━━━━━━━━━━━━━━━━━━━━━\u001b[0m \u001b[32m92.3/92.3 kB\u001b[0m \u001b[31m6.8 MB/s\u001b[0m eta \u001b[36m0:00:00\u001b[0m\n",
            "\u001b[?25hRequirement already satisfied: torch>=1.9.1 in /usr/local/lib/python3.9/dist-packages (from kornia) (2.0.0+cu118)\n",
            "Requirement already satisfied: packaging in /usr/local/lib/python3.9/dist-packages (from kornia) (23.0)\n",
            "Collecting nose\n",
            "  Downloading nose-1.3.7-py3-none-any.whl (154 kB)\n",
            "\u001b[2K     \u001b[90m━━━━━━━━━━━━━━━━━━━━━━━━━━━━━━━━━━━━━━━\u001b[0m \u001b[32m154.7/154.7 kB\u001b[0m \u001b[31m7.4 MB/s\u001b[0m eta \u001b[36m0:00:00\u001b[0m\n",
            "\u001b[?25hCollecting mnist\n",
            "  Downloading mnist-0.2.2-py2.py3-none-any.whl (3.5 kB)\n",
            "Requirement already satisfied: scipy in /usr/local/lib/python3.9/dist-packages (from cleverhans) (1.10.1)\n",
            "Requirement already satisfied: easydict in /usr/local/lib/python3.9/dist-packages (from cleverhans) (1.10)\n",
            "Collecting pycodestyle\n",
            "  Downloading pycodestyle-2.10.0-py2.py3-none-any.whl (41 kB)\n",
            "\u001b[2K     \u001b[90m━━━━━━━━━━━━━━━━━━━━━━━━━━━━━━━━━━━━━━━━\u001b[0m \u001b[32m41.3/41.3 kB\u001b[0m \u001b[31m3.4 MB/s\u001b[0m eta \u001b[36m0:00:00\u001b[0m\n",
            "\u001b[?25hRequirement already satisfied: absl-py in /usr/local/lib/python3.9/dist-packages (from cleverhans) (1.4.0)\n",
            "Requirement already satisfied: six in /usr/local/lib/python3.9/dist-packages (from cleverhans) (1.16.0)\n",
            "Requirement already satisfied: matplotlib in /usr/local/lib/python3.9/dist-packages (from cleverhans) (3.7.1)\n",
            "Requirement already satisfied: numpy in /usr/local/lib/python3.9/dist-packages (from cleverhans) (1.22.4)\n",
            "Requirement already satisfied: joblib in /usr/local/lib/python3.9/dist-packages (from cleverhans) (1.2.0)\n",
            "Requirement already satisfied: tensorflow-probability in /usr/local/lib/python3.9/dist-packages (from cleverhans) (0.19.0)\n",
            "Requirement already satisfied: typing-extensions in /usr/local/lib/python3.9/dist-packages (from torch>=1.9.1->kornia) (4.5.0)\n",
            "Requirement already satisfied: jinja2 in /usr/local/lib/python3.9/dist-packages (from torch>=1.9.1->kornia) (3.1.2)\n",
            "Requirement already satisfied: networkx in /usr/local/lib/python3.9/dist-packages (from torch>=1.9.1->kornia) (3.1)\n",
            "Requirement already satisfied: filelock in /usr/local/lib/python3.9/dist-packages (from torch>=1.9.1->kornia) (3.11.0)\n",
            "Requirement already satisfied: triton==2.0.0 in /usr/local/lib/python3.9/dist-packages (from torch>=1.9.1->kornia) (2.0.0)\n",
            "Requirement already satisfied: sympy in /usr/local/lib/python3.9/dist-packages (from torch>=1.9.1->kornia) (1.11.1)\n",
            "Requirement already satisfied: lit in /usr/local/lib/python3.9/dist-packages (from triton==2.0.0->torch>=1.9.1->kornia) (16.0.1)\n",
            "Requirement already satisfied: cmake in /usr/local/lib/python3.9/dist-packages (from triton==2.0.0->torch>=1.9.1->kornia) (3.25.2)\n",
            "Requirement already satisfied: kiwisolver>=1.0.1 in /usr/local/lib/python3.9/dist-packages (from matplotlib->cleverhans) (1.4.4)\n",
            "Requirement already satisfied: pyparsing>=2.3.1 in /usr/local/lib/python3.9/dist-packages (from matplotlib->cleverhans) (3.0.9)\n",
            "Requirement already satisfied: importlib-resources>=3.2.0 in /usr/local/lib/python3.9/dist-packages (from matplotlib->cleverhans) (5.12.0)\n",
            "Requirement already satisfied: python-dateutil>=2.7 in /usr/local/lib/python3.9/dist-packages (from matplotlib->cleverhans) (2.8.2)\n",
            "Requirement already satisfied: contourpy>=1.0.1 in /usr/local/lib/python3.9/dist-packages (from matplotlib->cleverhans) (1.0.7)\n",
            "Requirement already satisfied: pillow>=6.2.0 in /usr/local/lib/python3.9/dist-packages (from matplotlib->cleverhans) (8.4.0)\n",
            "Requirement already satisfied: fonttools>=4.22.0 in /usr/local/lib/python3.9/dist-packages (from matplotlib->cleverhans) (4.39.3)\n",
            "Requirement already satisfied: cycler>=0.10 in /usr/local/lib/python3.9/dist-packages (from matplotlib->cleverhans) (0.11.0)\n",
            "Requirement already satisfied: decorator in /usr/local/lib/python3.9/dist-packages (from tensorflow-probability->cleverhans) (4.4.2)\n",
            "Requirement already satisfied: cloudpickle>=1.3 in /usr/local/lib/python3.9/dist-packages (from tensorflow-probability->cleverhans) (2.2.1)\n",
            "Requirement already satisfied: gast>=0.3.2 in /usr/local/lib/python3.9/dist-packages (from tensorflow-probability->cleverhans) (0.4.0)\n",
            "Requirement already satisfied: dm-tree in /usr/local/lib/python3.9/dist-packages (from tensorflow-probability->cleverhans) (0.1.8)\n",
            "Requirement already satisfied: zipp>=3.1.0 in /usr/local/lib/python3.9/dist-packages (from importlib-resources>=3.2.0->matplotlib->cleverhans) (3.15.0)\n",
            "Requirement already satisfied: MarkupSafe>=2.0 in /usr/local/lib/python3.9/dist-packages (from jinja2->torch>=1.9.1->kornia) (2.1.2)\n",
            "Requirement already satisfied: mpmath>=0.19 in /usr/local/lib/python3.9/dist-packages (from sympy->torch>=1.9.1->kornia) (1.3.0)\n",
            "Installing collected packages: nose, pycodestyle, mnist, cleverhans, kornia\n",
            "Successfully installed cleverhans-4.0.0 kornia-0.6.11 mnist-0.2.2 nose-1.3.7 pycodestyle-2.10.0\n"
          ]
        }
      ],
      "source": [
        "!pip install kornia cleverhans"
      ]
    },
    {
      "cell_type": "code",
      "execution_count": 3,
      "metadata": {
        "id": "47aI9EMYKFH2"
      },
      "outputs": [],
      "source": [
        "# Libraries\n",
        "import matplotlib.pyplot as plt\n",
        "import torch\n",
        "import torch.optim as optim\n",
        "from torch.optim.lr_scheduler import MultiStepLR\n",
        "import torch.utils.data.dataloader as Data\n",
        "import torch.nn as nn\n",
        "from torch.nn import DataParallel\n",
        "import torch.nn.functional as F\n",
        "import torchvision\n",
        "from torch.utils.data import Dataset, DataLoader\n",
        "from torchvision import transforms, models, datasets\n",
        "from torchvision.datasets import MNIST, CIFAR10\n",
        "from torchvision.transforms import InterpolationMode\n",
        "import numpy as np\n",
        "import csv\n",
        "import os\n",
        "import io\n",
        "import kornia\n",
        "import time\n",
        "from tqdm import tqdm\n",
        "from PIL import Image\n",
        "from cleverhans.torch.attacks.fast_gradient_method import fast_gradient_method\n",
        "from cleverhans.torch.attacks.carlini_wagner_l2 import carlini_wagner_l2\n",
        "import warnings\n",
        "\n",
        "warnings.filterwarnings(\"ignore\")"
      ]
    },
    {
      "cell_type": "code",
      "execution_count": 4,
      "metadata": {
        "colab": {
          "base_uri": "https://localhost:8080/"
        },
        "id": "9usS12YjNU5d",
        "outputId": "ca4ac27f-6e3d-4609-d374-2c050696b17e"
      },
      "outputs": [
        {
          "output_type": "stream",
          "name": "stdout",
          "text": [
            "Mounted at /content/drive\n"
          ]
        }
      ],
      "source": [
        "from google.colab import drive\n",
        "drive.mount('/content/drive')"
      ]
    },
    {
      "cell_type": "markdown",
      "metadata": {
        "id": "-VnXR871J4z2"
      },
      "source": [
        "# Model Building\n"
      ]
    },
    {
      "cell_type": "code",
      "execution_count": 5,
      "metadata": {
        "id": "WbiobqGKKdgp"
      },
      "outputs": [],
      "source": [
        "class BasicBlock(nn.Module):\n",
        "   # define basic building block of a ResNet - a two-layer convolutiona neural network with a residual connection\n",
        "    expansion = 1 # class-level variable\n",
        "\n",
        "    def __init__(self, in_planes, planes, stride=1):\n",
        "        super(BasicBlock, self).__init__()\n",
        "        # define the 2 convolutional layers with batch normalization\n",
        "        self.conv1 = nn.Conv2d(in_planes, planes, kernel_size=3, stride=stride, padding=1, bias=False)\n",
        "        self.bn1 = nn.BatchNorm2d(planes)\n",
        "        self.conv2 = nn.Conv2d(planes, planes, kernel_size=3, stride=1, padding=1, bias=False)\n",
        "        self.bn2 = nn.BatchNorm2d(planes)\n",
        "        # define shortcut connection\n",
        "        self.shortcut = nn.Sequential()\n",
        "        if stride != 1 or in_planes != self.expansion*planes:\n",
        "            self.shortcut = nn.Sequential(\n",
        "                nn.Conv2d(in_planes, self.expansion*planes, kernel_size=1, stride=stride, bias=False),\n",
        "                nn.BatchNorm2d(self.expansion*planes)\n",
        "            )\n",
        "\n",
        "    def forward(self, x):\n",
        "        out = F.relu(self.bn1(self.conv1(x)))\n",
        "        out = self.bn2(self.conv2(out))\n",
        "        out += self.shortcut(x)\n",
        "        out = F.relu(out)\n",
        "        return out\n",
        "\n",
        "class Bottleneck(nn.Module):\n",
        "    # building block needed in the ResNet architecture\n",
        "    expansion = 4 # adjust number of output channels in residual branch of the block\n",
        "    \n",
        "    def __init__(self, in_planes, planes, stride=1):\n",
        "        super(Bottleneck, self).__init__()\n",
        "        self.conv1 = nn.Conv2d(in_planes, planes, kernel_size=1, bias=False)\n",
        "        self.bn1 = nn.BatchNorm2d(planes)\n",
        "        self.conv2 = nn.Conv2d(planes, planes, kernel_size=3, stride=stride, padding=1, bias=False)\n",
        "        self.bn2 = nn.BatchNorm2d(planes)\n",
        "        self.conv3 = nn.Conv2d(planes, self.expansion*planes, kernel_size=1, bias=False)\n",
        "        self.bn3 = nn.BatchNorm2d(self.expansion*planes)\n",
        "\n",
        "        self.shortcut = nn.Sequential()\n",
        "        if stride != 1 or in_planes != self.expansion*planes:\n",
        "            self.shortcut = nn.Sequential(\n",
        "                nn.Conv2d(in_planes, self.expansion*planes, kernel_size=1, stride=stride, bias=False),\n",
        "                nn.BatchNorm2d(self.expansion*planes)\n",
        "            )\n",
        "\n",
        "    def forward(self, x):\n",
        "        out = F.relu(self.bn1(self.conv1(x)))\n",
        "        out = F.relu(self.bn2(self.conv2(out)))\n",
        "        out = self.bn3(self.conv3(out))\n",
        "        out += self.shortcut(x)\n",
        "        out = F.relu(out)\n",
        "        return out\n",
        "\n",
        "class denoising_block(nn.Module):\n",
        "    def __init__(self, in_planes, ksize, filter_type):\n",
        "        super(denoising_block, self).__init__()\n",
        "        self.in_planes = in_planes\n",
        "        self.ksize = ksize\n",
        "        self.filter_type = filter_type\n",
        "        self.conv = nn.Conv2d(in_channels=in_planes, out_channels=in_planes, kernel_size=1, stride=1, padding=0)\n",
        "\n",
        "    def forward(self, x):\n",
        "        if self.filter_type == 'Median_Filter':\n",
        "            x_denoised = kornia.filters.median_blur(x, (self.ksize, self.ksize))\n",
        "        elif self.filter_type == 'Mean_Filter':\n",
        "            x_denoised = kornia.filters.box_blur(x, (self.ksize, self.ksize))\n",
        "        elif self.filter_type == 'Gaussian_Filter':\n",
        "            x_denoised = kornia.filters.gaussian_blur2d(x, (self.ksize, self.ksize), (0.3 * ((x.shape[3] - 1) * 0.5 - 1) + 0.8, 0.3 * ((x.shape[2] - 1) * 0.5 - 1) + 0.8))\n",
        "        new_x = x + self.conv(x_denoised)\n",
        "        return new_x\n",
        "\n",
        "class ResNet(nn.Module):\n",
        "    def __init__(self, block, num_blocks, num_classes=10, whether_denoising=False, filter_type=\"Mean_Filter\", ksize=3):\n",
        "        super(ResNet, self).__init__()\n",
        "        if whether_denoising:\n",
        "            self.denoising_block1 = denoising_block(in_planes=64, ksize=ksize, filter_type=filter_type)\n",
        "            self.denoising_block2 = denoising_block(in_planes=64, ksize=ksize, filter_type=filter_type)\n",
        "        self.whether_denoising = whether_denoising\n",
        "        self.in_planes = 64\n",
        "        self.conv1 = nn.Conv2d(3, 64, kernel_size=3, stride=1, padding=1, bias=False)\n",
        "        self.bn1 = nn.BatchNorm2d(64)\n",
        "        self.layer1 = self._make_layer(block, 64, num_blocks[0], stride=1)\n",
        "        self.layer2 = self._make_layer(block, 128, num_blocks[1], stride=2)\n",
        "        self.layer3 = self._make_layer(block, 256, num_blocks[2], stride=2)\n",
        "        self.layer4 = self._make_layer(block, 512, num_blocks[3], stride=2)\n",
        "        self.linear = nn.Linear(512*block.expansion, num_classes)\n",
        "\n",
        "    def _make_layer(self, block, planes, num_blocks, stride):\n",
        "        strides = [stride] + [1]*(num_blocks-1)\n",
        "        layers = []\n",
        "        for stride in strides:\n",
        "            layers.append(block(self.in_planes, planes, stride))\n",
        "            self.in_planes = planes * block.expansion\n",
        "        return nn.Sequential(*layers)\n",
        "\n",
        "    def forward(self, x):\n",
        "        out = F.relu(self.bn1(self.conv1(x)))\n",
        "        if self.whether_denoising:\n",
        "            out = self.denoising_block1(out)\n",
        "        out = self.layer1(out)\n",
        "        if self.whether_denoising:\n",
        "            out = self.denoising_block2(out)\n",
        "        out = self.layer2(out)\n",
        "        out = self.layer3(out)\n",
        "        out = self.layer4(out)\n",
        "        out = F.avg_pool2d(out, 4)\n",
        "        out = out.view(out.size(0), -1)\n",
        "        out = self.linear(out)\n",
        "        return out\n"
      ]
    },
    {
      "cell_type": "code",
      "execution_count": 6,
      "metadata": {
        "id": "jtaeqxsZQauQ"
      },
      "outputs": [],
      "source": [
        "def ResNet18(whether_denoising=False, filter_type=\"Mean_Filter\", ksize=3):\n",
        "    return ResNet(BasicBlock, [2, 2, 2, 2], num_classes=10, whether_denoising=whether_denoising, filter_type=filter_type, ksize=ksize)\n",
        "\n",
        "def ResNet34(whether_denoising=False, filter_type=\"Mean_Filter\", ksize=3):\n",
        "    return ResNet(BasicBlock, [3, 4, 6, 3], num_classes=10, whether_denoising=whether_denoising, filter_type=filter_type, ksize=ksize)\n",
        "\n",
        "def ResNet50(whether_denoising=False, filter_type=\"Mean_Filter\", ksize=3):\n",
        "    return ResNet(Bottleneck, [3, 4, 6, 3], num_classes=10, whether_denoising=whether_denoising, filter_type=filter_type, ksize=ksize)\n",
        "\n",
        "def ResNet101(whether_denoising=False, filter_type=\"Mean_Filter\", ksize=3):\n",
        "    return ResNet(Bottleneck, [3, 4, 23, 3], num_classes=10, whether_denoising=whether_denoising, filter_type=filter_type, ksize=ksize)\n",
        "\n",
        "def ResNet152(whether_denoising=False, filter_type=\"Mean_Filter\", ksize=3):\n",
        "    return ResNet(Bottleneck, [3, 8, 36, 3], num_classes=10, whether_denoising=whether_denoising, filter_type=filter_type, ksize=ksize)\n",
        "\n",
        "def test():\n",
        "    from torch.autograd import Variable\n",
        "    net = ResNet18(whether_denoising=True, filter_type=\"Median_Filter\", ksize=3)\n",
        "    x = Variable(torch.randn(1, 3, 32, 32), requires_grad=True)\n",
        "    y = net(x)\n",
        "    print(y)\n",
        "\n",
        "def denoising_block_test(filter_type):\n",
        "    from torch.autograd import Variable\n",
        "    denoising_block1 = denoising_block(in_planes=32, ksize=3, filter_type=filter_type)\n",
        "    x = Variable(torch.ones(2, 64, 32, 32), requires_grad=True)\n",
        "    y = denoising_block1(x)\n",
        "    print(y)\n",
        "    y.backward(x)\n",
        "    print(x.grad)"
      ]
    },
    {
      "cell_type": "markdown",
      "metadata": {
        "id": "59W_TSWLFbzo"
      },
      "source": [
        "# Data transformation\n",
        "Countering Adversarial Images Using Input Transformations"
      ]
    },
    {
      "cell_type": "code",
      "execution_count": 7,
      "metadata": {
        "id": "qUtIkGU3F_XH"
      },
      "outputs": [],
      "source": [
        "import math\n",
        "\n",
        "def denoise_tv_bregman(image, weight, max_iter=100, eps=1e-3):\n",
        "  if image.is_cuda:\n",
        "    image = image.cpu()\n",
        "  image = atleast_3d(image)\n",
        "\n",
        "  img_shape = list(image.shape)\n",
        "  rows = img_shape[0]\n",
        "  rows2 = rows + 2\n",
        "  cols = img_shape[1]\n",
        "  cols2 = cols + 2\n",
        "  dims = img_shape[2]\n",
        "  total = rows * cols * dims\n",
        "  shape_extend = (rows2, cols2, dims)\n",
        "  # out is firstly created as zeros-like tensor with size as shape_extend\n",
        "  out = torch.zeros(shape_extend, dtype=torch.float)\n",
        "\n",
        "  dx = out.clone().detach()\n",
        "  dy = out.clone().detach()\n",
        "  bx = out.clone().detach()\n",
        "  by = out.clone().detach()\n",
        "\n",
        "  lam = 2 * weight\n",
        "  rmse = float(\"inf\")\n",
        "  norm = (weight + 4 * lam)\n",
        "\n",
        "  out_rows, out_cols = out.shape[:2]\n",
        "  out[1:out_rows-1, 1:out_cols-1] = image\n",
        "\n",
        "  out = fill_extend(image, out)\n",
        "\n",
        "  i = 0\n",
        "  regularization = torch.mul(image, weight)\n",
        "  # iterative optimization method\n",
        "  # split-Bregman iteration\n",
        "  while i < max_iter and rmse > eps:\n",
        "    uprev = out[1:-1, 1:-1, :]\n",
        "\n",
        "    ux = out[1:-1, 2:, :] - uprev\n",
        "    uy = out[2:, 1:-1, :] - uprev\n",
        "\n",
        "    unew = torch.div(\n",
        "        (torch.mul((out[2:, 1:-1, :]\n",
        "                + out[0:-2, 1:-1, :]\n",
        "                + out[1:-1, 2:, :]\n",
        "                + out[1:-1, 0:-2, :]\n",
        "\n",
        "                + dx[1:-1, 0:-2, :]\n",
        "                - dx[1:-1, 1:-1, :]\n",
        "                + dy[0:-2, 1:-1, :]\n",
        "                - dy[1:-1, 1:-1, :]\n",
        "\n",
        "                - bx[1:-1, 0:-2, :]\n",
        "                + bx[1:-1, 1:-1, :]\n",
        "                - by[0:-2, 1:-1, :]\n",
        "                + by[1:-1, 1:-1, :]), lam) + regularization),\n",
        "          norm)\n",
        "    out[1:-1, 1:-1, :] = unew.clone().detach()\n",
        "\n",
        "    rmse = torch.norm(unew-uprev, p=2)\n",
        "\n",
        "    bxx = bx[1:-1, 1:-1, :].clone().detach()\n",
        "    byy = by[1:-1, 1:-1, :].clone().detach()\n",
        "\n",
        "    tx = ux + bxx\n",
        "    ty = uy + byy\n",
        "    s = torch.sqrt(torch.pow(tx, 2)+torch.pow(ty, 2))\n",
        "    dxx = torch.div(torch.addcmul(torch.zeros(s.shape, dtype=torch.float), lam, s, tx),\n",
        "                    torch.add(torch.mul(s, lam), 1))\n",
        "    dyy = torch.div(torch.addcmul(torch.zeros(s.shape, dtype=torch.float), lam, s, ty),\n",
        "                    torch.add(torch.mul(s, lam), 1))\n",
        "\n",
        "    dx[1:-1, 1:-1, :] = dxx.clone().detach()\n",
        "    dy[1:-1, 1:-1, :] = dyy.clone().detach()\n",
        "\n",
        "    bx[1:-1, 1:-1, :] += ux - dxx\n",
        "    by[1:-1, 1:-1, :] += uy - dyy\n",
        "\n",
        "    i += 1\n",
        "  # return the denoised image excluding the extended area\n",
        "  return out[1:-1, 1:-1]\n",
        "\n",
        "def atleast_3d(image):\n",
        "    dim = list(image.shape)\n",
        "\n",
        "    if len(dim) >= 3:\n",
        "        return image\n",
        "    else:\n",
        "        dim.append(1)\n",
        "        return image.view(dim)\n",
        "\n",
        "def fill_extend(image, out):\n",
        "    \"\"\"fill the extended area in out img with original img\"\"\"\n",
        "    out_rows, out_cols = out.shape[:2]\n",
        "    rows, cols = out_rows - 2, out_cols - 2\n",
        "    out[0, 1:out_cols-1] = image[1, :]\n",
        "    out[1:out_rows-1, 0] = image[:, 1]\n",
        "    out[out_rows-1, 1:out_cols-1] = image[rows-1, :]\n",
        "    out[1:out_rows-1, out_cols-1] = image[:, cols-1]\n",
        "    return out\n",
        "\n",
        "def randomJPEGcompression(image):\n",
        "    qf = np.random.randint(10, 101)\n",
        "    if torch.is_tensor(image):\n",
        "      image = transforms.ToPILImage()(image)\n",
        "    outputIoStream = io.BytesIO()\n",
        "    \n",
        "    image.save(outputIoStream, \"JPEG\", quality=qf, optimice=True)\n",
        "    outputIoStream.seek(0)\n",
        "    return Image.open(outputIoStream)\n",
        "\n",
        "def tvDenoising(image):\n",
        "  return denoise_tv_bregman(image, weight=0.1)\n"
      ]
    },
    {
      "cell_type": "code",
      "execution_count": 65,
      "metadata": {
        "id": "V-5HM7gSHp9S"
      },
      "outputs": [],
      "source": [
        "image_transforms = {\n",
        "  'cropping_rescaling':\n",
        "  transforms.Compose([\n",
        "      transforms.RandomResizedCrop(size=32),\n",
        "      transforms.RandomRotation(degrees=15),\n",
        "      # transforms.RandomHorizontalFlip(),\n",
        "      # transforms.ToTensor(),\n",
        "      # transforms.Normalize([0.485, 0.456, 0.406],\n",
        "      #                       [0.229, 0.224, 0.225])  # Imagenet standards\n",
        "  ]),\n",
        "  'bit_depth_reduction':\n",
        "  transforms.Compose([\n",
        "      transforms.RandomPosterize(4, p=0.5),\n",
        "      transforms.RandomRotation(degrees=15),\n",
        "      # transforms.RandomHorizontalFlip(),\n",
        "      # transforms.ToTensor(),\n",
        "      # transforms.Normalize([0.485, 0.456, 0.406], [0.229, 0.224, 0.225])\n",
        "  ]),\n",
        "  'JEPG_compression':\n",
        "  transforms.Compose([\n",
        "      transforms.Lambda(randomJPEGcompression),\n",
        "      transforms.RandomRotation(degrees=15),\n",
        "      # transforms.RandomHorizontalFlip(),\n",
        "      # transforms.ToTensor(),\n",
        "      # transforms.Normalize([0.485, 0.456, 0.406], [0.229, 0.224, 0.225])\n",
        "  ]),\n",
        "  'TVDenoise':\n",
        "  transforms.Compose([\n",
        "      transforms.ToTensor(),\n",
        "      transforms.Lambda(tvDenoising),\n",
        "      transforms.ToPILImage()\n",
        "      # transforms.RandomRotation(degrees=15),\n",
        "      # transforms.RandomHorizontalFlip(),\n",
        "      # transforms.Normalize([0.485, 0.456, 0.406], [0.229, 0.224, 0.225])\n",
        "  ]),\n",
        "  'cropping_rescaling_attack':\n",
        "  transforms.Compose([\n",
        "      transforms.ToPILImage(),\n",
        "      transforms.RandomResizedCrop(size=32),\n",
        "      transforms.RandomRotation(degrees=15),\n",
        "      transforms.RandomHorizontalFlip(),\n",
        "      transforms.ToTensor(),\n",
        "      transforms.Normalize([0.485, 0.456, 0.406],\n",
        "                            [0.229, 0.224, 0.225])  # Imagenet standards\n",
        "  ]),\n",
        "  'bit_depth_reduction_attack':\n",
        "  transforms.Compose([\n",
        "      transforms.ToPILImage(),\n",
        "      transforms.RandomPosterize(4, p=0.5),\n",
        "      transforms.RandomRotation(degrees=15),\n",
        "      transforms.RandomHorizontalFlip(),\n",
        "      transforms.ToTensor(),\n",
        "      transforms.Normalize([0.485, 0.456, 0.406], [0.229, 0.224, 0.225])\n",
        "  ]),\n",
        "  'JEPG_compression_attack':\n",
        "  transforms.Compose([\n",
        "      transforms.Lambda(randomJPEGcompression),\n",
        "      transforms.RandomRotation(degrees=15),\n",
        "      transforms.RandomHorizontalFlip(),\n",
        "      transforms.ToTensor(),\n",
        "      transforms.Normalize([0.485, 0.456, 0.406], [0.229, 0.224, 0.225])\n",
        "  ]),\n",
        "  'TVDenoise_attack':\n",
        "  transforms.Compose([\n",
        "      transforms.Lambda(tvDenoising),\n",
        "      transforms.RandomRotation(degrees=15),\n",
        "      transforms.RandomHorizontalFlip(),\n",
        "      transforms.Normalize([0.485, 0.456, 0.406], [0.229, 0.224, 0.225])\n",
        "  ])\n",
        "}"
      ]
    },
    {
      "cell_type": "markdown",
      "metadata": {
        "id": "DI3fCNuHKXDF"
      },
      "source": [
        "# Training"
      ]
    },
    {
      "cell_type": "code",
      "execution_count": 9,
      "metadata": {
        "id": "rm9YY_lnKbSS",
        "colab": {
          "base_uri": "https://localhost:8080/"
        },
        "outputId": "01c5c169-14db-4328-c7ea-725274ffd8ba"
      },
      "outputs": [
        {
          "output_type": "stream",
          "name": "stdout",
          "text": [
            "Downloading https://www.cs.toronto.edu/~kriz/cifar-10-python.tar.gz to /home/eva_share/datasets/cifar10/cifar-10-python.tar.gz\n"
          ]
        },
        {
          "output_type": "stream",
          "name": "stderr",
          "text": [
            "100%|██████████| 170498071/170498071 [00:01<00:00, 104345533.65it/s]\n"
          ]
        },
        {
          "output_type": "stream",
          "name": "stdout",
          "text": [
            "Extracting /home/eva_share/datasets/cifar10/cifar-10-python.tar.gz to /home/eva_share/datasets/cifar10\n"
          ]
        }
      ],
      "source": [
        "os.environ[\"CUDA_VISIBLE_DEVICES\"] = \"2\"\n",
        "whether_denoising=True\n",
        "filter_type='Mean_Filter'\n",
        "ksize=3\n",
        "learning_rate=1e-3\n",
        "epochs=20\n",
        "batch_size=64\n",
        "num_workers=32\n",
        "GPU='0'\n",
        "# model_address = \"/content/drive/MyDrive/Colab Notebooks/TrueMean_Filter3.pkl\"\n",
        "basic_model = 'ResNet18'\n",
        "filter_type = 'Mean_Filter'\n",
        "kernel_size = 3\n",
        "perturbation_threshold = 1e-8\n",
        "weight_decay = 1e-4\n",
        "momentum = 0.9\n",
        "\n",
        "os.environ[\"CUDA_VISIBLE_DEVICES\"] = GPU\n",
        "def test(model, testloader, criterion):\n",
        "    model.eval()\n",
        "    correct, total, loss, counter = 0, 0, 0, 0\n",
        "    with torch.no_grad():\n",
        "        for (images, labels) in testloader:\n",
        "            images = images.cuda()\n",
        "            labels = labels.cuda()\n",
        "            outputs = model(images)\n",
        "            _, predicted = torch.max(outputs.data, 1)\n",
        "            total += labels.shape[0]\n",
        "            correct += (predicted == labels).sum().item()\n",
        "            loss += criterion(outputs, labels).item()\n",
        "            counter += 1\n",
        "    return loss / total, correct / total\n",
        "\n",
        "transform_test = transforms.Compose([\n",
        "    transforms.ToTensor(),\n",
        "    transforms.Normalize([0.485, 0.456, 0.406], [0.229, 0.224, 0.225]),])\n",
        "\n",
        "testset = torchvision.datasets.CIFAR10(root='/home/eva_share/datasets/cifar10', train=False, download=True, transform=transform_test)\n",
        "testloader = torch.utils.data.DataLoader(testset, batch_size=64, shuffle=False, num_workers=32)\n",
        "\n",
        "\n",
        "def train(whether_denoising, filter_type, ksize, epochs, transform=None):\n",
        "  if transform:\n",
        "    transform_train = image_transforms[transform]\n",
        "\n",
        "  else:\n",
        "    # Set the transformation\n",
        "    transform_train = transforms.Compose([\n",
        "        transforms.RandomHorizontalFlip(),\n",
        "        transforms.RandomRotation(degrees=15),\n",
        "        transforms.ToTensor(),\n",
        "        transforms.Normalize([0.485, 0.456, 0.406], [0.229, 0.224, 0.225]),\n",
        "    ])\n",
        "\n",
        "\n",
        "  # Load the dataset\n",
        "  trainset = torchvision.datasets.CIFAR10(root='/home/eva_share/datasets/cifar10', train=True, download=True, transform=transform_train)\n",
        "  trainloader = torch.utils.data.DataLoader(trainset, batch_size=64, shuffle=True, num_workers=32)\n",
        "  \n",
        "  classes = ('plane', 'car', 'bird', 'cat', 'deer', 'dog', 'frog', 'horse', 'ship', 'truck')\n",
        "\n",
        "  # Establish the model\n",
        "  model = ResNet18(whether_denoising=whether_denoising, filter_type=filter_type, ksize=ksize)\n",
        "  model = model.cuda()\n",
        "  model = nn.DataParallel(model)\n",
        "\n",
        "  criterion = nn.CrossEntropyLoss()\n",
        "  params = list(model.parameters())\n",
        "  optimizer = optim.SGD(params, lr=learning_rate, weight_decay=1e-4, momentum=0.9, nesterov=True)\n",
        "  scheduler = MultiStepLR(optimizer, milestones=[int(epochs/2), int(epochs*3/4), int(epochs*7/8)], gamma=0.1)\n",
        "\n",
        "  total, correct, train_loss = 0, 0, 0\n",
        "  best_acc, best_epoch = 0, 0\n",
        "\n",
        "  for epoch in range(epochs):\n",
        "      for i, data in enumerate(tqdm(trainloader)):\n",
        "          model.train()\n",
        "          inputs, labels = data\n",
        "          inputs = inputs.cuda()\n",
        "          labels = labels.cuda()\n",
        "          outputs = model(inputs)\n",
        "          loss = criterion(outputs, labels)\n",
        "          optimizer.zero_grad()\n",
        "          loss.backward()\n",
        "          optimizer.step()\n",
        "          # count acc,loss on trainset\n",
        "          _, predicted = torch.max(outputs.data, 1)\n",
        "          total += labels.shape[0]\n",
        "          correct += (predicted == labels).sum().item()\n",
        "          train_loss += loss.item()\n",
        "      \n",
        "      acc = correct / total\n",
        "      train_loss /= total\n",
        "      val_loss, val_acc = test(model, testloader, criterion)\n",
        "      \n",
        "      print(\"epoch:{}, train_loss:{:.3f}, train_acc:{:.3f}, val_loss:{:.3f}, val_acc:{:.3f}\".format(epoch, train_loss, acc, val_loss, val_acc))\n",
        "      correct, total, train_loss = 0, 0, 0\n",
        "      if best_acc < val_acc:\n",
        "          best_acc = val_acc\n",
        "          best_epoch = epoch\n",
        "          torch.save(model.state_dict(),\"/content/drive/MyDrive/Colab Notebooks/\" + str(whether_denoising) + filter_type + str(transform) + '.pkl')\n",
        "  print(\"Best model at present: val_acc={:.3f}  best_epoch={}\".format(best_acc, best_epoch))\n",
        "  return model\n"
      ]
    },
    {
      "cell_type": "markdown",
      "metadata": {
        "id": "-sb_6QUXROFZ"
      },
      "source": [
        "# Adversarial Attack"
      ]
    },
    {
      "cell_type": "code",
      "execution_count": 21,
      "metadata": {
        "id": "neZxfT-jIMpG"
      },
      "outputs": [],
      "source": [
        "def evaluate_attack(testset, attack_method, norm, epsilon, model, transform=None):\n",
        "    # load dataset\n",
        "    test_loader = testset\n",
        "\n",
        "    # run evaluation\n",
        "    model.eval()\n",
        "  \n",
        "    correct = 0.0\n",
        "    for images, labels in test_loader:\n",
        "      images, labels = images.cuda(), labels.cuda()\n",
        "\n",
        "      if attack_method == 'baseline' or epsilon == 0.0:\n",
        "          pass\n",
        "      elif attack_method == 'fgsm':\n",
        "          images = fast_gradient_method(\n",
        "              model_fn=model,\n",
        "              x=images,\n",
        "              eps=epsilon,\n",
        "              norm=norm,\n",
        "              clip_min=0.0,\n",
        "              clip_max=255,\n",
        "          )\n",
        "\n",
        "      if transform == None:\n",
        "        with torch.no_grad():\n",
        "            out = model(images)\n",
        "            _, preds = torch.max(out, 1)\n",
        "            correct += torch.sum(preds == labels).detach().cpu()\n",
        "      else:\n",
        "        transform_methods=image_transforms[transform]\n",
        "        for img in images:\n",
        "          img = transform_methods(img)\n",
        "        with torch.no_grad():\n",
        "            out = model(images)\n",
        "            _, preds = torch.max(out, 1)\n",
        "            correct += torch.sum(preds == labels).detach().cpu()\n",
        "\n",
        "\n",
        "      acc = correct / len(test_loader.dataset)\n",
        "  \n",
        "    return acc"
      ]
    },
    {
      "cell_type": "code",
      "execution_count": 11,
      "metadata": {
        "id": "gswRx3zups2m"
      },
      "outputs": [],
      "source": [
        "def load_model(basic_model, whether_denoising, filter_type, ksize):\n",
        "    if basic_model == 'ResNet18':\n",
        "        model = ResNet18(whether_denoising=whether_denoising, filter_type=filter_type, ksize=ksize)\n",
        "    elif basic_model == 'ResNet34':\n",
        "        model = ResNet34(whether_denoising=whether_denoising, filter_type=filter_type, ksize=ksize)\n",
        "    elif basic_model == 'ResNet50':\n",
        "        model = ResNet50(whether_denoising=whether_denoising, filter_type=filter_type, ksize=ksize)\n",
        "    elif basic_model == 'ResNet101':\n",
        "        model = ResNet101(whether_denoising=whether_denoising, filter_type=filter_type, ksize=ksize)\n",
        "    elif basic_model == 'ResNet152':\n",
        "        model = ResNet152(whether_denoising=whether_denoising, filter_type=filter_type, ksize=ksize)\n",
        "\n",
        "    model.cuda()\n",
        "    model = DataParallel(model)\n",
        "    return model\n"
      ]
    },
    {
      "cell_type": "markdown",
      "metadata": {
        "id": "CZ_W5QnaArHK"
      },
      "source": [
        "# Plotting\n"
      ]
    },
    {
      "cell_type": "code",
      "execution_count": 12,
      "metadata": {
        "id": "JHWtRw7XBknV"
      },
      "outputs": [],
      "source": [
        "def plottingAttack(modelsInfo, epsilon_range, testloader):\n",
        "  epsilons = np.linspace(epsilon_range[0], epsilon_range[1], 10)\n",
        "  os.environ[\"CUDA_VISIBLE_DEVICES\"] = GPU\n",
        "  for info in modelsInfo:\n",
        "    model = load_model(basic_model=basic_model, \n",
        "                       whether_denoising=info['whether_denoising'], \n",
        "                       filter_type=info['filter_type'], ksize=kernel_size)\n",
        "    model.load_state_dict(torch.load(info['address']))\n",
        "    model.cuda()\n",
        "    model = nn.DataParallel(model)\n",
        "    attack_acc = []\n",
        "    plt.xlabel('epsilon')\n",
        "    plt.ylabel('test_acc')\n",
        "    for eps in tqdm(epsilons):\n",
        "      if info['transform']:\n",
        "        attack_acc.append(evaluate_attack(testloader, 'fgsm', 2, eps, model, transform = info['transform']+\"_attack\"))\n",
        "      else:\n",
        "        attack_acc.append(evaluate_attack(testloader, 'fgsm', 2, eps, model))\n",
        "    if info['whether_denoising'] and info['transform']:\n",
        "      label = info['filter_type'] + \"+\" + info['transform']\n",
        "    elif info['whether_denoising'] :\n",
        "      label = info['filter_type'] \n",
        "    elif info['transform']:\n",
        "      label = info['transform']\n",
        "    else:\n",
        "      label = 'Baseline'\n",
        "    plt.plot(epsilons, attack_acc, label = label)\n",
        "  plt.legend()\n",
        "  plt.show()\n",
        "\n"
      ]
    },
    {
      "cell_type": "code",
      "source": [
        "# model = train(True,filter_type,ksize,\"\")"
      ],
      "metadata": {
        "id": "DvSImUQjgZin"
      },
      "execution_count": 12,
      "outputs": []
    },
    {
      "cell_type": "code",
      "source": [
        "model = load_model(basic_model=basic_model, \n",
        "                   whether_denoising=False, \n",
        "                   filter_type=filter_type, ksize=kernel_size)\n",
        "model.load_state_dict(torch.load('/content/drive/MyDrive/Colab Notebooks/FalseMean_FilterNone.pkl'))\n",
        "model.cuda()\n",
        "model = nn.DataParallel(model)\n",
        "evaluate_attack(testloader, 'fgsm', 2, 0.5, model, transform = None)"
      ],
      "metadata": {
        "id": "LHXZz1RflyVc",
        "colab": {
          "base_uri": "https://localhost:8080/"
        },
        "outputId": "0453c5dd-81a7-4a53-d1e6-c11ef8e7cb77"
      },
      "execution_count": 29,
      "outputs": [
        {
          "output_type": "execute_result",
          "data": {
            "text/plain": [
              "tensor(0.5464)"
            ]
          },
          "metadata": {},
          "execution_count": 29
        }
      ]
    },
    {
      "cell_type": "code",
      "source": [
        "model = load_model(basic_model=basic_model, \n",
        "                   whether_denoising=False, \n",
        "                   filter_type=filter_type, ksize=kernel_size)\n",
        "model.load_state_dict(torch.load('/content/drive/MyDrive/Colab Notebooks/FalseMean_FilterNone.pkl'))\n",
        "model.cuda()\n",
        "model = nn.DataParallel(model)\n",
        "evaluate_attack(testloader, 'fgsm', 2, 0.5, model, 'TVDenoise_attack')"
      ],
      "metadata": {
        "colab": {
          "base_uri": "https://localhost:8080/"
        },
        "id": "YyQ3_-IrXl3b",
        "outputId": "a336bbd2-695e-4c9e-b4f6-3a51512551dc"
      },
      "execution_count": 30,
      "outputs": [
        {
          "output_type": "execute_result",
          "data": {
            "text/plain": [
              "tensor(0.5464)"
            ]
          },
          "metadata": {},
          "execution_count": 30
        }
      ]
    },
    {
      "cell_type": "code",
      "source": [
        "from PIL import Image\n",
        "from pathlib import Path\n",
        "import matplotlib.pyplot as plt\n",
        "import numpy as np\n",
        "\n",
        "import torch\n",
        "import torchvision.transforms as T\n",
        "\n",
        "\n",
        "\n",
        "testset = torchvision.datasets.CIFAR10(root='/home/eva_share/datasets/cifar10', train=True, download=True)\n",
        "plt.rcParams[\"savefig.bbox\"] = 'tight'\n",
        "orig_img = testset[1][0]\n",
        "# if you change the seed, make sure that the randomly-applied transforms\n",
        "# properly show that the image can be both transformed and *not* transformed!\n",
        "torch.manual_seed(0)\n",
        "\n",
        "\n",
        "def plot(imgs, with_orig=True, row_title=None, **imshow_kwargs):\n",
        "    if not isinstance(imgs[0], list):\n",
        "        # Make a 2d grid even if there's just 1 row\n",
        "        imgs = [imgs]\n",
        "\n",
        "    num_rows = len(imgs)\n",
        "    num_cols = len(imgs[0])\n",
        "    fig, axs = plt.subplots(nrows=num_rows, ncols=num_cols, squeeze=False)\n",
        "    for row_idx, row in enumerate(imgs):\n",
        "       \n",
        "        for col_idx, img in enumerate(row):\n",
        "            ax = axs[row_idx, col_idx]\n",
        "            ax.imshow(np.asarray(img), **imshow_kwargs)\n",
        "            ax.set(title=row_title[col_idx])\n",
        "            ax.title.set_size(8)\n",
        "            ax.set(xticklabels=[], yticklabels=[], xticks=[], yticks=[])\n",
        "\n",
        "    # if with_orig:\n",
        "    #     axs[0, 0].set(title='Original image')\n",
        "    #     axs[0, 0].title.set_size(8)\n",
        "    # if row_title is not None:\n",
        "    #     for row_idx in range(num_rows):\n",
        "    #         axs[row_idx, 0].set(ylabel=row_title[row_idx])\n",
        "\n",
        "    plt.tight_layout()\n",
        "\n",
        "import torchvision.transforms.functional as F\n",
        "\n",
        "row_title = ['Oriniginal','Cropping_rescaling', 'Bit_depth_reduction','JEPG_compression','TVDenoise' ]\n",
        "img1 = image_transforms['cropping_rescaling'](orig_img)\n",
        "img2 = image_transforms['bit_depth_reduction'](orig_img)\n",
        "img3 = image_transforms['JEPG_compression'](orig_img)\n",
        "img4 = image_transforms['TVDenoise'](orig_img)\n",
        "\n",
        "\n",
        "plot([orig_img,img1,img2,img3,img4],row_title=row_title)"
      ],
      "metadata": {
        "colab": {
          "base_uri": "https://localhost:8080/",
          "height": 180
        },
        "id": "zANg014uwIBc",
        "outputId": "129820a9-06c3-4b9c-e190-2484cffa8446"
      },
      "execution_count": 78,
      "outputs": [
        {
          "output_type": "stream",
          "name": "stdout",
          "text": [
            "Files already downloaded and verified\n"
          ]
        },
        {
          "output_type": "display_data",
          "data": {
            "text/plain": [
              "<Figure size 640x480 with 5 Axes>"
            ],
            "image/png": "[encoded data removed]"
          },
          "metadata": {}
        }
      ]
    },
    {
      "cell_type": "code",
      "execution_count": 14,
      "metadata": {
        "id": "qLXXPtF0PKpY"
      },
      "outputs": [],
      "source": [
        "# modelsInfo = [{'whether_denoising': False, \n",
        "#                'filter_type': 'Mean_Filter', \n",
        "#                'transform': None,\n",
        "#                'address':'/content/drive/MyDrive/Colab Notebooks/FalseMean_FilterNone.pkl'},\n",
        "#               {'whether_denoising': False, \n",
        "#                'filter_type': 'Mean_Filter', \n",
        "#                'transform': 'cropping_rescaling',\n",
        "#                'address': '/content/drive/MyDrive/Colab Notebooks/FalseMean_Filtercropping_rescaling.pkl'}, \n",
        "#               {'whether_denoising': False, \n",
        "#                'filter_type': 'Mean_Filter', \n",
        "#                'transform': 'bit_depth_reduction',\n",
        "#                'address':'/content/drive/MyDrive/Colab Notebooks/FalseMean_Filterbit_depth_reduction.pkl'},\n",
        "#               {'whether_denoising': False, \n",
        "#                'filter_type': 'Mean_Filter', \n",
        "#                'transform': 'JEPG_compression',\n",
        "#                'address': '/content/drive/MyDrive/Colab Notebooks/FalseMean_FilterJEPG_compression.pkl'},\n",
        "#               {'whether_denoising': False, \n",
        "#                'filter_type': 'Mean_Filter', \n",
        "#                'transform': 'TVDenoise',\n",
        "#                'address':'/content/drive/MyDrive/Colab Notebooks/FalseMean_FilterTVDenoise.pkl'}]\n",
        "# epsilon_range = [0.0,5]\n",
        "# plottingAttack(modelsInfo, epsilon_range, testloader)"
      ]
    },
    {
      "cell_type": "code",
      "source": [
        "# modelsInfo = [{'whether_denoising': False, \n",
        "#                'filter_type': 'Mean_Filter', \n",
        "#                'transform': None,\n",
        "#                'address':'/content/drive/MyDrive/Colab Notebooks/FalseMean_FilterNone.pkl'},\n",
        "#               {'whether_denoising': True, \n",
        "#                'filter_type': 'Mean_Filter', \n",
        "#                'transform': 'JEPG_compression',\n",
        "#                'address': '/content/drive/MyDrive/Colab Notebooks/TrueMean_FilterJEPG_compression.pkl'}, \n",
        "#               {'whether_denoising': True, \n",
        "#                'filter_type': 'Mean_Filter', \n",
        "#                'transform': None,\n",
        "#                'address':'/content/drive/MyDrive/Colab Notebooks/TrueMean_FilterNone.pkl'},\n",
        "#               {'whether_denoising': False, \n",
        "#                'filter_type': 'Mean_Filter', \n",
        "#                'transform': 'JEPG_compression',\n",
        "#                'address': '/content/drive/MyDrive/Colab Notebooks/FalseMean_FilterJEPG_compression.pkl'}]\n",
        "# epsilon_range = [0.0,5]\n",
        "# plottingAttack(modelsInfo, epsilon_range, testloader)"
      ],
      "metadata": {
        "id": "wSb2jtYehuTD"
      },
      "execution_count": 15,
      "outputs": []
    },
    {
      "cell_type": "markdown",
      "metadata": {
        "id": "3p0sNpua3EuG"
      },
      "source": [
        "# Reference\n",
        "\n",
        "Adversarial attack:\n",
        "* https://github.com/JasonTang99/csc2529_project/blob/main/attack.py\n",
        "* https://github.com/cleverhans-lab/cleverhans/blob/master/cleverhans/jax/attacks/fast_gradient_method.py\n",
        "\n",
        "\n",
        "Countering Adversarial Images Using Input Transformations:\n",
        "* https://github.com/facebookarchive/adversarial_image_defenses\n",
        "* https://arxiv.org/pdf/1812.03411.pdf\n",
        "\n",
        "Data Transformation: \n",
        "* https://jhui.github.io/2018/02/09/PyTorch-Data-loading-preprocess_torchvision/\n",
        "* JPEG tranformation: https://discuss.pytorch.org/t/how-can-i-develop-a-transformation-that-performs-jpeg-compression-with-a-random-qf/43588/4\n",
        "* TV denoise using bregman algorithm: https://github.com/shakes76/PatternFlow/blob/master/algorithms/denoise/denoise_tv_bregman/denoise_tv_bregman.py\n",
        "\n",
        "Others:\n",
        "* https://github.com/tqdm/tqdm\n"
      ]
    }
  ],
  "metadata": {
    "accelerator": "GPU",
    "colab": {
      "provenance": [],
      "toc_visible": true,
      "include_colab_link": true
    },
    "gpuClass": "standard",
    "kernelspec": {
      "display_name": "Python 3",
      "name": "python3"
    },
    "language_info": {
      "name": "python"
    }
  },
  "nbformat": 4,
  "nbformat_minor": 0
}